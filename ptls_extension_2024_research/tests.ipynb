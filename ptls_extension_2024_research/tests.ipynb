{
 "cells": [
  {
   "cell_type": "code",
   "execution_count": null,
   "metadata": {},
   "outputs": [],
   "source": [
    "import torch\n",
    "from ptls.data_load.padded_batch import PaddedBatch\n",
    "from ptls.nn.trx_encoder.scalers import scaler_by_name\n",
    "\n",
    "\n",
    "from nn.trx_encoder.trx_encoder_with_client_item_embeddings import TrxEncoder_WithCIEmbeddings\n",
    "from nn.trx_encoder.client_item_encoder import DummyGNNClientItemEncoder\n",
    "\n",
    "dummy_gnn_encoder = DummyGNNClientItemEncoder(output_size=10)\n",
    "\n",
    "B, T = 5, 20\n",
    "trx_encoder = TrxEncoder_WithCIEmbeddings(\n",
    "    embeddings={'mcc_code': {'in': 100, 'out': 5}},\n",
    "    numeric_values={'amount': 'log'},\n",
    "    col_item_ids='mcc_code',\n",
    "    client_item_embeddings=[dummy_gnn_encoder],\n",
    "    use_batch_norm=False\n",
    ")\n",
    "\n",
    "feats_pb = PaddedBatch(\n",
    "    payload={\n",
    "        'mcc_code': torch.randint(0, 99, (B, T)),\n",
    "        'amount': torch.randn(B, T),\n",
    "    },\n",
    "    length=torch.randint(10, 20, (B,)),\n",
    ")\n",
    "\n",
    "client_ids = torch.arange(0, B, dtype=torch.int64)\n",
    "\n",
    "z = trx_encoder((feats_pb, client_ids))\n",
    "\n",
    "assert z.payload.shape == (5, 20, 5+1+10)  # B, T, H\n",
    "\n",
    "\n",
    "\n",
    "assert torch.allclose(\n",
    "    z.payload[:,:,5],\n",
    "    scaler_by_name('log')(feats_pb.payload['amount']).squeeze(-1)\n",
    ")"
   ]
  },
  {
   "cell_type": "code",
   "execution_count": null,
   "metadata": {},
   "outputs": [],
   "source": []
  }
 ],
 "metadata": {
  "kernelspec": {
   "display_name": "Python 3",
   "language": "python",
   "name": "python3"
  },
  "language_info": {
   "codemirror_mode": {
    "name": "ipython",
    "version": 3
   },
   "file_extension": ".py",
   "mimetype": "text/x-python",
   "name": "python",
   "nbconvert_exporter": "python",
   "pygments_lexer": "ipython3",
   "version": "3.8.0"
  }
 },
 "nbformat": 4,
 "nbformat_minor": 2
}
