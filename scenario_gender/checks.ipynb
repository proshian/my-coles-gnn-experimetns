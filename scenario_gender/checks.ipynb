{
 "cells": [
  {
   "cell_type": "code",
   "execution_count": 1,
   "metadata": {},
   "outputs": [],
   "source": [
    "import torch"
   ]
  },
  {
   "cell_type": "code",
   "execution_count": 2,
   "metadata": {},
   "outputs": [],
   "source": [
    "item_id2train_graph_id = torch.load('./data/graphs/weighted/item_id2train_graph_id.pt')"
   ]
  },
  {
   "cell_type": "code",
   "execution_count": 4,
   "metadata": {},
   "outputs": [
    {
     "data": {
      "text/plain": [
       "tensor([    0,     0, 14160, 14161, 14162, 14163, 14164, 14165, 14166, 14167,\n",
       "        14168, 14169, 14170, 14171, 14172, 14173, 14174, 14175, 14176, 14177,\n",
       "        14178, 14179, 14180, 14181, 14182, 14183, 14184, 14185, 14186, 14187,\n",
       "        14188, 14189, 14190, 14191, 14192, 14193, 14194, 14195, 14196, 14197,\n",
       "        14198, 14199, 14200, 14201, 14202, 14203, 14204, 14205, 14206, 14207,\n",
       "        14208, 14209, 14210, 14211, 14212, 14213, 14214, 14215, 14216, 14217,\n",
       "        14218, 14219, 14220, 14221, 14222, 14223, 14224, 14225, 14226, 14227,\n",
       "        14228, 14229, 14230, 14231, 14232, 14233, 14234, 14235, 14236, 14237,\n",
       "        14238, 14239, 14240, 14241, 14242, 14243, 14244, 14245, 14246, 14247,\n",
       "        14248, 14249, 14250, 14251, 14252, 14253, 14254, 14255, 14256, 14257,\n",
       "        14258, 14259, 14260, 14261, 14262, 14263, 14264, 14265, 14266, 14267,\n",
       "        14268, 14269, 14270, 14271, 14272, 14273, 14274, 14275, 14276, 14277,\n",
       "        14278, 14279, 14280, 14281, 14282, 14283, 14284, 14285, 14286, 14287,\n",
       "        14288, 14289, 14290, 14291, 14292, 14293, 14294, 14295, 14296, 14297,\n",
       "        14298, 14299, 14300, 14301, 14302, 14303, 14304, 14305, 14306, 14307,\n",
       "        14308, 14309, 14310, 14311, 14312, 14313, 14314, 14315, 14316, 14317,\n",
       "        14318, 14319, 14320, 14321, 14322, 14323, 14324, 14325, 14326, 14327,\n",
       "        14328, 14329, 14330, 14331, 14332, 14333, 14334, 14335, 14336, 14337,\n",
       "        14338, 14339, 14340, 14341, 14342, 14343])"
      ]
     },
     "execution_count": 4,
     "metadata": {},
     "output_type": "execute_result"
    }
   ],
   "source": [
    "item_id2train_graph_id"
   ]
  },
  {
   "cell_type": "code",
   "execution_count": 5,
   "metadata": {},
   "outputs": [
    {
     "data": {
      "text/plain": [
       "186"
      ]
     },
     "execution_count": 5,
     "metadata": {},
     "output_type": "execute_result"
    }
   ],
   "source": [
    "len(item_id2train_graph_id)"
   ]
  },
  {
   "cell_type": "code",
   "execution_count": 4,
   "metadata": {},
   "outputs": [
    {
     "data": {
      "text/plain": [
       "tensor([    0,     0,     0,  ...,     0,     0, 14343])"
      ]
     },
     "execution_count": 4,
     "metadata": {},
     "output_type": "execute_result"
    }
   ],
   "source": [
    "item_id2train_graph_id"
   ]
  },
  {
   "cell_type": "code",
   "execution_count": 5,
   "metadata": {},
   "outputs": [
    {
     "data": {
      "text/plain": [
       "tensor([    0, 14160, 14161, 14162, 14163, 14164, 14165, 14166, 14167, 14168,\n",
       "        14169, 14170, 14171, 14172, 14173, 14174, 14175, 14176, 14177, 14178,\n",
       "        14179, 14180, 14181, 14182, 14183, 14184, 14185, 14186, 14187, 14188,\n",
       "        14189, 14190, 14191, 14192, 14193, 14194, 14195, 14196, 14197, 14198,\n",
       "        14199, 14200, 14201, 14202, 14203, 14204, 14205, 14206, 14207, 14208,\n",
       "        14209, 14210, 14211, 14212, 14213, 14214, 14215, 14216, 14217, 14218,\n",
       "        14219, 14220, 14221, 14222, 14223, 14224, 14225, 14226, 14227, 14228,\n",
       "        14229, 14230, 14231, 14232, 14233, 14234, 14235, 14236, 14237, 14238,\n",
       "        14239, 14240, 14241, 14242, 14243, 14244, 14245, 14246, 14247, 14248,\n",
       "        14249, 14250, 14251, 14252, 14253, 14254, 14255, 14256, 14257, 14258,\n",
       "        14259, 14260, 14261, 14262, 14263, 14264, 14265, 14266, 14267, 14268,\n",
       "        14269, 14270, 14271, 14272, 14273, 14274, 14275, 14276, 14277, 14278,\n",
       "        14279, 14280, 14281, 14282, 14283, 14284, 14285, 14286, 14287, 14288,\n",
       "        14289, 14290, 14291, 14292, 14293, 14294, 14295, 14296, 14297, 14298,\n",
       "        14299, 14300, 14301, 14302, 14303, 14304, 14305, 14306, 14307, 14308,\n",
       "        14309, 14310, 14311, 14312, 14313, 14314, 14315, 14316, 14317, 14318,\n",
       "        14319, 14320, 14321, 14322, 14323, 14324, 14325, 14326, 14327, 14328,\n",
       "        14329, 14330, 14331, 14332, 14333, 14334, 14335, 14336, 14337, 14338,\n",
       "        14339, 14340, 14341, 14342, 14343])"
      ]
     },
     "execution_count": 5,
     "metadata": {},
     "output_type": "execute_result"
    }
   ],
   "source": [
    "unique_elements = item_id2train_graph_id.unique()\n",
    "unique_elements"
   ]
  },
  {
   "cell_type": "code",
   "execution_count": 6,
   "metadata": {},
   "outputs": [
    {
     "data": {
      "text/plain": [
       "False"
      ]
     },
     "execution_count": 6,
     "metadata": {},
     "output_type": "execute_result"
    }
   ],
   "source": [
    "torch.equal(\n",
    "    item_id2train_graph_id[len(item_id2train_graph_id)-len(unique_elements):],\n",
    "    unique_elements\n",
    ")"
   ]
  },
  {
   "cell_type": "code",
   "execution_count": 11,
   "metadata": {},
   "outputs": [],
   "source": [
    "client_id2train_graph_id = torch.load('./data/graphs/weighted/client_id2train_graph_id.pt')"
   ]
  },
  {
   "cell_type": "code",
   "execution_count": 12,
   "metadata": {},
   "outputs": [
    {
     "data": {
      "text/plain": [
       "99999681"
      ]
     },
     "execution_count": 12,
     "metadata": {},
     "output_type": "execute_result"
    }
   ],
   "source": [
    "len(client_id2train_graph_id)"
   ]
  },
  {
   "cell_type": "code",
   "execution_count": 13,
   "metadata": {},
   "outputs": [
    {
     "data": {
      "text/plain": [
       "tensor([    0,     0,     0,  ...,     0,     0, 14159])"
      ]
     },
     "execution_count": 13,
     "metadata": {},
     "output_type": "execute_result"
    }
   ],
   "source": [
    "client_id2train_graph_id"
   ]
  },
  {
   "cell_type": "code",
   "execution_count": null,
   "metadata": {},
   "outputs": [],
   "source": []
  },
  {
   "cell_type": "code",
   "execution_count": 10,
   "metadata": {},
   "outputs": [],
   "source": [
    "item_id2full_graph_id = torch.load('./data/graphs/weighted/item_id2full_graph_id.pt')"
   ]
  },
  {
   "cell_type": "code",
   "execution_count": 11,
   "metadata": {},
   "outputs": [
    {
     "data": {
      "text/plain": [
       "185"
      ]
     },
     "execution_count": 11,
     "metadata": {},
     "output_type": "execute_result"
    }
   ],
   "source": [
    "len(item_id2full_graph_id)"
   ]
  },
  {
   "cell_type": "code",
   "execution_count": 12,
   "metadata": {},
   "outputs": [
    {
     "data": {
      "text/plain": [
       "tensor([    0, 15000, 15001, 15002, 15003, 15006, 15007, 15008, 15009, 15010,\n",
       "        15037, 15014, 15004, 15015, 15005, 15016, 15064, 15017, 15061, 15018,\n",
       "        15019, 15020, 15110, 15021, 15050, 15038, 15011, 15034, 15022, 15035,\n",
       "        15036, 15023, 15024, 15039, 15025, 15063, 15040, 15013, 15041, 15074,\n",
       "        15075, 15088, 15042, 15067, 15051, 15026, 15043, 15065, 15082, 15012,\n",
       "        15052, 15044, 15076, 15053, 15027, 15090, 15068, 15069, 15028, 15054,\n",
       "        15077, 15083, 15029, 15078, 15070, 15045, 15091, 15030, 15031, 15032,\n",
       "        15117, 15079, 15127, 15116, 15033, 15094, 15112, 15106, 15084, 15095,\n",
       "        15055, 15118, 15080, 15096, 15097, 15056, 15057, 15081, 15058, 15087,\n",
       "        15123, 15071, 15046, 15126, 15085, 15047, 15062, 15108, 15136, 15111,\n",
       "        15138, 15101, 15059, 15146, 15130, 15072, 15092, 15066, 15048, 15153,\n",
       "        15144, 15125, 15139, 15163, 15148, 15102, 15121, 15115, 15098, 15157,\n",
       "        15093, 15137, 15104, 15113, 15177, 15105, 15124, 15073, 15128, 15049,\n",
       "        15141, 15133, 15109, 15162, 15086, 15142, 15134, 15089, 15107, 15159,\n",
       "        15151, 15119, 15122, 15181, 15099, 15131, 15100, 15140, 15145, 15149,\n",
       "        15155, 15160, 15152, 15060, 15120, 15150, 15114, 15103, 15161, 15168,\n",
       "        15164, 15165, 15166, 15147, 15179, 15173, 15175, 15169, 15156, 15167,\n",
       "        15174, 15182, 15180, 15178, 15172, 15183, 15132, 15143, 15154, 15170,\n",
       "        15158, 15176, 15129, 15171, 15135])"
      ]
     },
     "execution_count": 12,
     "metadata": {},
     "output_type": "execute_result"
    }
   ],
   "source": [
    "item_id2full_graph_id"
   ]
  },
  {
   "cell_type": "code",
   "execution_count": null,
   "metadata": {},
   "outputs": [],
   "source": []
  },
  {
   "cell_type": "code",
   "execution_count": 13,
   "metadata": {},
   "outputs": [],
   "source": [
    "client_id2full_graph_id = torch.load('./data/graphs/weighted/client_id2full_graph_id.pt')"
   ]
  },
  {
   "cell_type": "code",
   "execution_count": 14,
   "metadata": {},
   "outputs": [
    {
     "data": {
      "text/plain": [
       "99999681"
      ]
     },
     "execution_count": 14,
     "metadata": {},
     "output_type": "execute_result"
    }
   ],
   "source": [
    "len(client_id2full_graph_id)"
   ]
  },
  {
   "cell_type": "code",
   "execution_count": 15,
   "metadata": {},
   "outputs": [
    {
     "data": {
      "text/plain": [
       "tensor([    0,     0,     0,  ...,     0,     0, 14999])"
      ]
     },
     "execution_count": 15,
     "metadata": {},
     "output_type": "execute_result"
    }
   ],
   "source": [
    "client_id2full_graph_id"
   ]
  },
  {
   "cell_type": "code",
   "execution_count": 16,
   "metadata": {},
   "outputs": [
    {
     "data": {
      "text/plain": [
       "tensor([    0,     1,     2,  ..., 14997, 14998, 14999])"
      ]
     },
     "execution_count": 16,
     "metadata": {},
     "output_type": "execute_result"
    }
   ],
   "source": [
    "client_id2full_graph_id.unique()"
   ]
  },
  {
   "cell_type": "code",
   "execution_count": 17,
   "metadata": {},
   "outputs": [
    {
     "data": {
      "text/plain": [
       "15000"
      ]
     },
     "execution_count": 17,
     "metadata": {},
     "output_type": "execute_result"
    }
   ],
   "source": [
    "len(client_id2full_graph_id.unique())"
   ]
  },
  {
   "cell_type": "code",
   "execution_count": 17,
   "metadata": {},
   "outputs": [
    {
     "name": "stdout",
     "output_type": "stream",
     "text": [
      "/home/proshian/Documents/my-coles-gnn-experimetns\n"
     ]
    },
    {
     "name": "stderr",
     "output_type": "stream",
     "text": [
      "/home/proshian/.local/lib/python3.10/site-packages/IPython/core/magics/osm.py:417: UserWarning: This is now an optional IPython functionality, setting dhist requires you to install the `pickleshare` library.\n",
      "  self.shell.db['dhist'] = compress_dhist(dhist)[-100:]\n"
     ]
    }
   ],
   "source": [
    "%cd .."
   ]
  },
  {
   "cell_type": "code",
   "execution_count": 18,
   "metadata": {},
   "outputs": [
    {
     "name": "stderr",
     "output_type": "stream",
     "text": [
      "/home/proshian/.local/lib/python3.10/site-packages/tqdm/auto.py:21: TqdmWarning: IProgress not found. Please update jupyter and ipywidgets. See https://ipywidgets.readthedocs.io/en/stable/user_install.html\n",
      "  from .autonotebook import tqdm as notebook_tqdm\n"
     ]
    },
    {
     "ename": "ModuleNotFoundError",
     "evalue": "No module named '_lzma'",
     "output_type": "error",
     "traceback": [
      "\u001b[0;31m---------------------------------------------------------------------------\u001b[0m",
      "\u001b[0;31mModuleNotFoundError\u001b[0m                       Traceback (most recent call last)",
      "Cell \u001b[0;32mIn[18], line 1\u001b[0m\n\u001b[0;32m----> 1\u001b[0m \u001b[38;5;28;01mfrom\u001b[39;00m \u001b[38;5;21;01mptls_extension_2024_research\u001b[39;00m\u001b[38;5;21;01m.\u001b[39;00m\u001b[38;5;21;01mgraphs\u001b[39;00m\u001b[38;5;21;01m.\u001b[39;00m\u001b[38;5;21;01mgraph\u001b[39;00m \u001b[38;5;28;01mimport\u001b[39;00m ClientItemGraph, ClientItemGraphFull\n",
      "File \u001b[0;32m~/Documents/my-coles-gnn-experimetns/ptls_extension_2024_research/__init__.py:1\u001b[0m\n\u001b[0;32m----> 1\u001b[0m \u001b[38;5;28;01mfrom\u001b[39;00m \u001b[38;5;21;01m.\u001b[39;00m\u001b[38;5;21;01mnn\u001b[39;00m\u001b[38;5;21;01m.\u001b[39;00m\u001b[38;5;21;01mtrx_encoder\u001b[39;00m\u001b[38;5;21;01m.\u001b[39;00m\u001b[38;5;21;01mclient_item_encoder\u001b[39;00m \u001b[38;5;28;01mimport\u001b[39;00m BaseClientItemEncoder, DummyGNNClientItemEncoder\n\u001b[1;32m      2\u001b[0m \u001b[38;5;28;01mfrom\u001b[39;00m \u001b[38;5;21;01m.\u001b[39;00m\u001b[38;5;21;01mframes\u001b[39;00m\u001b[38;5;21;01m.\u001b[39;00m\u001b[38;5;21;01mcoles_client_id_aware\u001b[39;00m\u001b[38;5;21;01m.\u001b[39;00m\u001b[38;5;21;01mcoles_module__trx_with_ci_embs\u001b[39;00m \u001b[38;5;28;01mimport\u001b[39;00m CoLESModule_CITrx\n\u001b[1;32m      3\u001b[0m \u001b[38;5;28;01mfrom\u001b[39;00m \u001b[38;5;21;01m.\u001b[39;00m\u001b[38;5;21;01mnn\u001b[39;00m\u001b[38;5;21;01m.\u001b[39;00m\u001b[38;5;21;01mtrx_encoder\u001b[39;00m\u001b[38;5;21;01m.\u001b[39;00m\u001b[38;5;21;01mtrx_encoder_with_client_item_embeddings\u001b[39;00m \u001b[38;5;28;01mimport\u001b[39;00m TrxEncoder_WithCIEmbeddings\n",
      "File \u001b[0;32m~/Documents/my-coles-gnn-experimetns/ptls_extension_2024_research/nn/trx_encoder/client_item_encoder.py:4\u001b[0m\n\u001b[1;32m      1\u001b[0m \u001b[38;5;28;01mimport\u001b[39;00m \u001b[38;5;21;01mtorch\u001b[39;00m\n\u001b[1;32m      2\u001b[0m \u001b[38;5;28;01mimport\u001b[39;00m \u001b[38;5;21;01mtorch\u001b[39;00m\u001b[38;5;21;01m.\u001b[39;00m\u001b[38;5;21;01mnn\u001b[39;00m \u001b[38;5;28;01mas\u001b[39;00m \u001b[38;5;21;01mnn\u001b[39;00m\n\u001b[0;32m----> 4\u001b[0m \u001b[38;5;28;01mfrom\u001b[39;00m \u001b[38;5;21;01mptls_extension_2024_research\u001b[39;00m\u001b[38;5;21;01m.\u001b[39;00m\u001b[38;5;21;01mframes\u001b[39;00m\u001b[38;5;21;01m.\u001b[39;00m\u001b[38;5;21;01mgnn\u001b[39;00m\u001b[38;5;21;01m.\u001b[39;00m\u001b[38;5;21;01mgnn_module\u001b[39;00m \u001b[38;5;28;01mimport\u001b[39;00m ColesBatchToSubgraphConverter, GnnLinkPredictor\n\u001b[1;32m      7\u001b[0m \u001b[38;5;28;01mclass\u001b[39;00m \u001b[38;5;21;01mBaseClientItemEncoder\u001b[39;00m(nn\u001b[38;5;241m.\u001b[39mModule):\n\u001b[1;32m      8\u001b[0m     \u001b[38;5;28;01mdef\u001b[39;00m \u001b[38;5;21m__init__\u001b[39m(\u001b[38;5;28mself\u001b[39m):\n",
      "File \u001b[0;32m~/Documents/my-coles-gnn-experimetns/ptls_extension_2024_research/frames/gnn/gnn_module.py:5\u001b[0m\n\u001b[1;32m      2\u001b[0m \u001b[38;5;28;01mimport\u001b[39;00m \u001b[38;5;21;01mtorch\u001b[39;00m\n\u001b[1;32m      3\u001b[0m \u001b[38;5;28;01mimport\u001b[39;00m \u001b[38;5;21;01mtorch\u001b[39;00m\u001b[38;5;21;01m.\u001b[39;00m\u001b[38;5;21;01mnn\u001b[39;00m \u001b[38;5;28;01mas\u001b[39;00m \u001b[38;5;21;01mnn\u001b[39;00m\n\u001b[0;32m----> 5\u001b[0m \u001b[38;5;28;01mfrom\u001b[39;00m \u001b[38;5;21;01mptls_extension_2024_research\u001b[39;00m\u001b[38;5;21;01m.\u001b[39;00m\u001b[38;5;21;01mgraphs\u001b[39;00m\u001b[38;5;21;01m.\u001b[39;00m\u001b[38;5;21;01mgraph\u001b[39;00m \u001b[38;5;28;01mimport\u001b[39;00m ClientItemGraph, ClientItemGraphFull\n\u001b[1;32m      6\u001b[0m \u001b[38;5;28;01mfrom\u001b[39;00m \u001b[38;5;21;01mptls_extension_2024_research\u001b[39;00m\u001b[38;5;21;01m.\u001b[39;00m\u001b[38;5;21;01mgraphs\u001b[39;00m\u001b[38;5;21;01m.\u001b[39;00m\u001b[38;5;21;01mutils\u001b[39;00m \u001b[38;5;28;01mimport\u001b[39;00m MLPPredictor, RandEdgeSampler\n\u001b[1;32m      7\u001b[0m \u001b[38;5;28;01mfrom\u001b[39;00m \u001b[38;5;21;01mptls_extension_2024_research\u001b[39;00m\u001b[38;5;21;01m.\u001b[39;00m\u001b[38;5;21;01mgraphs\u001b[39;00m\u001b[38;5;21;01m.\u001b[39;00m\u001b[38;5;21;01mstatic_models\u001b[39;00m\u001b[38;5;21;01m.\u001b[39;00m\u001b[38;5;21;01mgnn\u001b[39;00m \u001b[38;5;28;01mimport\u001b[39;00m GraphSAGE, GAT\n",
      "File \u001b[0;32m~/Documents/my-coles-gnn-experimetns/ptls_extension_2024_research/graphs/graph.py:2\u001b[0m\n\u001b[1;32m      1\u001b[0m \u001b[38;5;28;01mfrom\u001b[39;00m \u001b[38;5;21;01mdataclasses\u001b[39;00m \u001b[38;5;28;01mimport\u001b[39;00m dataclass\n\u001b[0;32m----> 2\u001b[0m \u001b[38;5;28;01mimport\u001b[39;00m \u001b[38;5;21;01mdgl\u001b[39;00m\n\u001b[1;32m      3\u001b[0m \u001b[38;5;28;01mimport\u001b[39;00m \u001b[38;5;21;01mtorch\u001b[39;00m\n\u001b[1;32m      6\u001b[0m \u001b[38;5;129m@dataclass\u001b[39m\n\u001b[1;32m      7\u001b[0m \u001b[38;5;28;01mclass\u001b[39;00m \u001b[38;5;21;01mClientItemGraph\u001b[39;00m:\n",
      "File \u001b[0;32m~/.local/lib/python3.10/site-packages/dgl/__init__.py:16\u001b[0m\n\u001b[1;32m     13\u001b[0m \u001b[38;5;28;01mfrom\u001b[39;00m \u001b[38;5;21;01m.\u001b[39;00m\u001b[38;5;21;01mlogging\u001b[39;00m \u001b[38;5;28;01mimport\u001b[39;00m enable_verbose_logging  \u001b[38;5;66;03m# usort: skip\u001b[39;00m\n\u001b[1;32m     14\u001b[0m \u001b[38;5;28;01mfrom\u001b[39;00m \u001b[38;5;21;01m.\u001b[39;00m\u001b[38;5;21;01mbackend\u001b[39;00m \u001b[38;5;28;01mimport\u001b[39;00m backend_name, load_backend  \u001b[38;5;66;03m# usort: skip\u001b[39;00m\n\u001b[0;32m---> 16\u001b[0m \u001b[38;5;28;01mfrom\u001b[39;00m \u001b[38;5;21;01m.\u001b[39;00m \u001b[38;5;28;01mimport\u001b[39;00m (\n\u001b[1;32m     17\u001b[0m     container,\n\u001b[1;32m     18\u001b[0m     cuda,\n\u001b[1;32m     19\u001b[0m     dataloading,\n\u001b[1;32m     20\u001b[0m     function,\n\u001b[1;32m     21\u001b[0m     ops,\n\u001b[1;32m     22\u001b[0m     random,\n\u001b[1;32m     23\u001b[0m     sampling,\n\u001b[1;32m     24\u001b[0m     storages,\n\u001b[1;32m     25\u001b[0m )\n\u001b[1;32m     26\u001b[0m \u001b[38;5;28;01mfrom\u001b[39;00m \u001b[38;5;21;01m.\u001b[39;00m\u001b[38;5;21;01m_ffi\u001b[39;00m\u001b[38;5;21;01m.\u001b[39;00m\u001b[38;5;21;01mbase\u001b[39;00m \u001b[38;5;28;01mimport\u001b[39;00m __version__, DGLError\n\u001b[1;32m     27\u001b[0m \u001b[38;5;28;01mfrom\u001b[39;00m \u001b[38;5;21;01m.\u001b[39;00m\u001b[38;5;21;01m_ffi\u001b[39;00m\u001b[38;5;21;01m.\u001b[39;00m\u001b[38;5;21;01mfunction\u001b[39;00m \u001b[38;5;28;01mimport\u001b[39;00m (\n\u001b[1;32m     28\u001b[0m     extract_ext_funcs,\n\u001b[1;32m     29\u001b[0m     get_global_func,\n\u001b[1;32m     30\u001b[0m     list_global_func_names,\n\u001b[1;32m     31\u001b[0m     register_func,\n\u001b[1;32m     32\u001b[0m )\n",
      "File \u001b[0;32m~/.local/lib/python3.10/site-packages/dgl/dataloading/__init__.py:13\u001b[0m\n\u001b[1;32m     11\u001b[0m \u001b[38;5;28;01mif\u001b[39;00m F\u001b[38;5;241m.\u001b[39mget_preferred_backend() \u001b[38;5;241m==\u001b[39m \u001b[38;5;124m\"\u001b[39m\u001b[38;5;124mpytorch\u001b[39m\u001b[38;5;124m\"\u001b[39m:\n\u001b[1;32m     12\u001b[0m     \u001b[38;5;28;01mfrom\u001b[39;00m \u001b[38;5;21;01m.\u001b[39;00m\u001b[38;5;21;01mspot_target\u001b[39;00m \u001b[38;5;28;01mimport\u001b[39;00m \u001b[38;5;241m*\u001b[39m\n\u001b[0;32m---> 13\u001b[0m     \u001b[38;5;28;01mfrom\u001b[39;00m \u001b[38;5;21;01m.\u001b[39;00m\u001b[38;5;21;01mdataloader\u001b[39;00m \u001b[38;5;28;01mimport\u001b[39;00m \u001b[38;5;241m*\u001b[39m\n\u001b[1;32m     14\u001b[0m     \u001b[38;5;28;01mfrom\u001b[39;00m \u001b[38;5;21;01m.\u001b[39;00m\u001b[38;5;21;01mdist_dataloader\u001b[39;00m \u001b[38;5;28;01mimport\u001b[39;00m \u001b[38;5;241m*\u001b[39m\n",
      "File \u001b[0;32m~/.local/lib/python3.10/site-packages/dgl/dataloading/dataloader.py:27\u001b[0m\n\u001b[1;32m     25\u001b[0m \u001b[38;5;28;01mfrom\u001b[39;00m \u001b[38;5;21;01m.\u001b[39;00m\u001b[38;5;21;01m.\u001b[39;00m\u001b[38;5;21;01mbatch\u001b[39;00m \u001b[38;5;28;01mimport\u001b[39;00m batch \u001b[38;5;28;01mas\u001b[39;00m batch_graphs\n\u001b[1;32m     26\u001b[0m \u001b[38;5;28;01mfrom\u001b[39;00m \u001b[38;5;21;01m.\u001b[39;00m\u001b[38;5;21;01m.\u001b[39;00m\u001b[38;5;21;01mcuda\u001b[39;00m \u001b[38;5;28;01mimport\u001b[39;00m GPUCache\n\u001b[0;32m---> 27\u001b[0m \u001b[38;5;28;01mfrom\u001b[39;00m \u001b[38;5;21;01m.\u001b[39;00m\u001b[38;5;21;01m.\u001b[39;00m\u001b[38;5;21;01mdistributed\u001b[39;00m \u001b[38;5;28;01mimport\u001b[39;00m DistGraph\n\u001b[1;32m     28\u001b[0m \u001b[38;5;28;01mfrom\u001b[39;00m \u001b[38;5;21;01m.\u001b[39;00m\u001b[38;5;21;01m.\u001b[39;00m\u001b[38;5;21;01mframe\u001b[39;00m \u001b[38;5;28;01mimport\u001b[39;00m LazyFeature\n\u001b[1;32m     29\u001b[0m \u001b[38;5;28;01mfrom\u001b[39;00m \u001b[38;5;21;01m.\u001b[39;00m\u001b[38;5;21;01m.\u001b[39;00m\u001b[38;5;21;01mheterograph\u001b[39;00m \u001b[38;5;28;01mimport\u001b[39;00m DGLGraph\n",
      "File \u001b[0;32m~/.local/lib/python3.10/site-packages/dgl/distributed/__init__.py:5\u001b[0m\n\u001b[1;32m      3\u001b[0m \u001b[38;5;28;01mfrom\u001b[39;00m \u001b[38;5;21;01m.\u001b[39;00m\u001b[38;5;21;01mdist_context\u001b[39;00m \u001b[38;5;28;01mimport\u001b[39;00m exit_client, initialize\n\u001b[1;32m      4\u001b[0m \u001b[38;5;28;01mfrom\u001b[39;00m \u001b[38;5;21;01m.\u001b[39;00m\u001b[38;5;21;01mdist_dataloader\u001b[39;00m \u001b[38;5;28;01mimport\u001b[39;00m DistDataLoader\n\u001b[0;32m----> 5\u001b[0m \u001b[38;5;28;01mfrom\u001b[39;00m \u001b[38;5;21;01m.\u001b[39;00m\u001b[38;5;21;01mdist_graph\u001b[39;00m \u001b[38;5;28;01mimport\u001b[39;00m DistGraph, DistGraphServer, edge_split, node_split\n\u001b[1;32m      6\u001b[0m \u001b[38;5;28;01mfrom\u001b[39;00m \u001b[38;5;21;01m.\u001b[39;00m\u001b[38;5;21;01mdist_tensor\u001b[39;00m \u001b[38;5;28;01mimport\u001b[39;00m DistTensor\n\u001b[1;32m      7\u001b[0m \u001b[38;5;28;01mfrom\u001b[39;00m \u001b[38;5;21;01m.\u001b[39;00m\u001b[38;5;21;01mgraph_partition_book\u001b[39;00m \u001b[38;5;28;01mimport\u001b[39;00m GraphPartitionBook, PartitionPolicy\n",
      "File \u001b[0;32m~/.local/lib/python3.10/site-packages/dgl/distributed/dist_graph.py:12\u001b[0m\n\u001b[1;32m      9\u001b[0m \u001b[38;5;28;01mimport\u001b[39;00m \u001b[38;5;21;01mnumpy\u001b[39;00m \u001b[38;5;28;01mas\u001b[39;00m \u001b[38;5;21;01mnp\u001b[39;00m\n\u001b[1;32m     10\u001b[0m \u001b[38;5;28;01mimport\u001b[39;00m \u001b[38;5;21;01mtorch\u001b[39;00m\n\u001b[0;32m---> 12\u001b[0m \u001b[38;5;28;01mfrom\u001b[39;00m \u001b[38;5;21;01m.\u001b[39;00m\u001b[38;5;21;01m.\u001b[39;00m \u001b[38;5;28;01mimport\u001b[39;00m backend \u001b[38;5;28;01mas\u001b[39;00m F, graphbolt \u001b[38;5;28;01mas\u001b[39;00m gb, heterograph_index\n\u001b[1;32m     13\u001b[0m \u001b[38;5;28;01mfrom\u001b[39;00m \u001b[38;5;21;01m.\u001b[39;00m\u001b[38;5;21;01m.\u001b[39;00m\u001b[38;5;21;01m_ffi\u001b[39;00m\u001b[38;5;21;01m.\u001b[39;00m\u001b[38;5;21;01mndarray\u001b[39;00m \u001b[38;5;28;01mimport\u001b[39;00m empty_shared_mem\n\u001b[1;32m     14\u001b[0m \u001b[38;5;28;01mfrom\u001b[39;00m \u001b[38;5;21;01m.\u001b[39;00m\u001b[38;5;21;01m.\u001b[39;00m\u001b[38;5;21;01mbase\u001b[39;00m \u001b[38;5;28;01mimport\u001b[39;00m ALL, DGLError, EID, ETYPE, is_all, NID\n",
      "File \u001b[0;32m~/.local/lib/python3.10/site-packages/dgl/graphbolt/__init__.py:39\u001b[0m\n\u001b[1;32m     36\u001b[0m load_graphbolt()\n\u001b[1;32m     38\u001b[0m \u001b[38;5;66;03m# pylint: disable=wrong-import-position\u001b[39;00m\n\u001b[0;32m---> 39\u001b[0m \u001b[38;5;28;01mfrom\u001b[39;00m \u001b[38;5;21;01m.\u001b[39;00m\u001b[38;5;21;01mbase\u001b[39;00m \u001b[38;5;28;01mimport\u001b[39;00m \u001b[38;5;241m*\u001b[39m\n\u001b[1;32m     40\u001b[0m \u001b[38;5;28;01mfrom\u001b[39;00m \u001b[38;5;21;01m.\u001b[39;00m\u001b[38;5;21;01mminibatch\u001b[39;00m \u001b[38;5;28;01mimport\u001b[39;00m \u001b[38;5;241m*\u001b[39m\n\u001b[1;32m     41\u001b[0m \u001b[38;5;28;01mfrom\u001b[39;00m \u001b[38;5;21;01m.\u001b[39;00m\u001b[38;5;21;01mdataloader\u001b[39;00m \u001b[38;5;28;01mimport\u001b[39;00m \u001b[38;5;241m*\u001b[39m\n",
      "File \u001b[0;32m~/.local/lib/python3.10/site-packages/dgl/graphbolt/base.py:21\u001b[0m\n\u001b[1;32m     19\u001b[0m \u001b[38;5;66;03m# pylint: disable=wrong-import-position\u001b[39;00m\n\u001b[1;32m     20\u001b[0m \u001b[38;5;28;01mfrom\u001b[39;00m \u001b[38;5;21;01mtorch\u001b[39;00m\u001b[38;5;21;01m.\u001b[39;00m\u001b[38;5;21;01mutils\u001b[39;00m\u001b[38;5;21;01m.\u001b[39;00m\u001b[38;5;21;01mdata\u001b[39;00m \u001b[38;5;28;01mimport\u001b[39;00m functional_datapipe\n\u001b[0;32m---> 21\u001b[0m \u001b[38;5;28;01mfrom\u001b[39;00m \u001b[38;5;21;01mtorchdata\u001b[39;00m\u001b[38;5;21;01m.\u001b[39;00m\u001b[38;5;21;01mdatapipes\u001b[39;00m\u001b[38;5;21;01m.\u001b[39;00m\u001b[38;5;21;01miter\u001b[39;00m \u001b[38;5;28;01mimport\u001b[39;00m IterDataPipe\n\u001b[1;32m     23\u001b[0m \u001b[38;5;28;01mfrom\u001b[39;00m \u001b[38;5;21;01m.\u001b[39;00m\u001b[38;5;21;01m.\u001b[39;00m\u001b[38;5;21;01mutils\u001b[39;00m \u001b[38;5;28;01mimport\u001b[39;00m recursive_apply\n\u001b[1;32m     25\u001b[0m __all__ \u001b[38;5;241m=\u001b[39m [\n\u001b[1;32m     26\u001b[0m     \u001b[38;5;124m\"\u001b[39m\u001b[38;5;124mCANONICAL_ETYPE_DELIMITER\u001b[39m\u001b[38;5;124m\"\u001b[39m,\n\u001b[1;32m     27\u001b[0m     \u001b[38;5;124m\"\u001b[39m\u001b[38;5;124mORIGINAL_EDGE_ID\u001b[39m\u001b[38;5;124m\"\u001b[39m,\n\u001b[0;32m   (...)\u001b[0m\n\u001b[1;32m     40\u001b[0m     \u001b[38;5;124m\"\u001b[39m\u001b[38;5;124mseed_type_str_to_ntypes\u001b[39m\u001b[38;5;124m\"\u001b[39m,\n\u001b[1;32m     41\u001b[0m ]\n",
      "File \u001b[0;32m~/.local/lib/python3.10/site-packages/torchdata/__init__.py:9\u001b[0m\n\u001b[1;32m      1\u001b[0m \u001b[38;5;66;03m# Copyright (c) Meta Platforms, Inc. and affiliates.\u001b[39;00m\n\u001b[1;32m      2\u001b[0m \u001b[38;5;66;03m# All rights reserved.\u001b[39;00m\n\u001b[1;32m      3\u001b[0m \u001b[38;5;66;03m#\u001b[39;00m\n\u001b[1;32m      4\u001b[0m \u001b[38;5;66;03m# This source code is licensed under the BSD-style license found in the\u001b[39;00m\n\u001b[1;32m      5\u001b[0m \u001b[38;5;66;03m# LICENSE file in the root directory of this source tree.\u001b[39;00m\n\u001b[1;32m      7\u001b[0m \u001b[38;5;28;01mfrom\u001b[39;00m \u001b[38;5;21;01mtorchdata\u001b[39;00m \u001b[38;5;28;01mimport\u001b[39;00m _extension  \u001b[38;5;66;03m# noqa: F401\u001b[39;00m\n\u001b[0;32m----> 9\u001b[0m \u001b[38;5;28;01mfrom\u001b[39;00m \u001b[38;5;21;01m.\u001b[39;00m \u001b[38;5;28;01mimport\u001b[39;00m datapipes\n\u001b[1;32m     11\u001b[0m janitor \u001b[38;5;241m=\u001b[39m datapipes\u001b[38;5;241m.\u001b[39mutils\u001b[38;5;241m.\u001b[39mjanitor\n\u001b[1;32m     13\u001b[0m \u001b[38;5;28;01mtry\u001b[39;00m:\n",
      "File \u001b[0;32m~/.local/lib/python3.10/site-packages/torchdata/datapipes/__init__.py:9\u001b[0m\n\u001b[1;32m      1\u001b[0m \u001b[38;5;66;03m# Copyright (c) Meta Platforms, Inc. and affiliates.\u001b[39;00m\n\u001b[1;32m      2\u001b[0m \u001b[38;5;66;03m# All rights reserved.\u001b[39;00m\n\u001b[1;32m      3\u001b[0m \u001b[38;5;66;03m#\u001b[39;00m\n\u001b[1;32m      4\u001b[0m \u001b[38;5;66;03m# This source code is licensed under the BSD-style license found in the\u001b[39;00m\n\u001b[1;32m      5\u001b[0m \u001b[38;5;66;03m# LICENSE file in the root directory of this source tree.\u001b[39;00m\n\u001b[1;32m      7\u001b[0m \u001b[38;5;28;01mfrom\u001b[39;00m \u001b[38;5;21;01mtorch\u001b[39;00m\u001b[38;5;21;01m.\u001b[39;00m\u001b[38;5;21;01mutils\u001b[39;00m\u001b[38;5;21;01m.\u001b[39;00m\u001b[38;5;21;01mdata\u001b[39;00m \u001b[38;5;28;01mimport\u001b[39;00m DataChunk, functional_datapipe\n\u001b[0;32m----> 9\u001b[0m \u001b[38;5;28;01mfrom\u001b[39;00m \u001b[38;5;21;01m.\u001b[39;00m \u001b[38;5;28;01mimport\u001b[39;00m \u001b[38;5;28miter\u001b[39m, \u001b[38;5;28mmap\u001b[39m, utils\n\u001b[1;32m     11\u001b[0m __all__ \u001b[38;5;241m=\u001b[39m [\u001b[38;5;124m\"\u001b[39m\u001b[38;5;124mDataChunk\u001b[39m\u001b[38;5;124m\"\u001b[39m, \u001b[38;5;124m\"\u001b[39m\u001b[38;5;124mfunctional_datapipe\u001b[39m\u001b[38;5;124m\"\u001b[39m, \u001b[38;5;124m\"\u001b[39m\u001b[38;5;124miter\u001b[39m\u001b[38;5;124m\"\u001b[39m, \u001b[38;5;124m\"\u001b[39m\u001b[38;5;124mmap\u001b[39m\u001b[38;5;124m\"\u001b[39m, \u001b[38;5;124m\"\u001b[39m\u001b[38;5;124mutils\u001b[39m\u001b[38;5;124m\"\u001b[39m]\n",
      "File \u001b[0;32m~/.local/lib/python3.10/site-packages/torchdata/datapipes/iter/__init__.py:95\u001b[0m\n\u001b[1;32m     90\u001b[0m \u001b[38;5;28;01mfrom\u001b[39;00m \u001b[38;5;21;01mtorchdata\u001b[39;00m\u001b[38;5;21;01m.\u001b[39;00m\u001b[38;5;21;01mdatapipes\u001b[39;00m\u001b[38;5;21;01m.\u001b[39;00m\u001b[38;5;21;01miter\u001b[39;00m\u001b[38;5;21;01m.\u001b[39;00m\u001b[38;5;21;01mutil\u001b[39;00m\u001b[38;5;21;01m.\u001b[39;00m\u001b[38;5;21;01mcycler\u001b[39;00m \u001b[38;5;28;01mimport\u001b[39;00m CyclerIterDataPipe \u001b[38;5;28;01mas\u001b[39;00m Cycler, RepeaterIterDataPipe \u001b[38;5;28;01mas\u001b[39;00m Repeater\n\u001b[1;32m     91\u001b[0m \u001b[38;5;28;01mfrom\u001b[39;00m \u001b[38;5;21;01mtorchdata\u001b[39;00m\u001b[38;5;21;01m.\u001b[39;00m\u001b[38;5;21;01mdatapipes\u001b[39;00m\u001b[38;5;21;01m.\u001b[39;00m\u001b[38;5;21;01miter\u001b[39;00m\u001b[38;5;21;01m.\u001b[39;00m\u001b[38;5;21;01mutil\u001b[39;00m\u001b[38;5;21;01m.\u001b[39;00m\u001b[38;5;21;01mdataframemaker\u001b[39;00m \u001b[38;5;28;01mimport\u001b[39;00m (\n\u001b[1;32m     92\u001b[0m     DataFrameMakerIterDataPipe \u001b[38;5;28;01mas\u001b[39;00m DataFrameMaker,\n\u001b[1;32m     93\u001b[0m     ParquetDFLoaderIterDataPipe \u001b[38;5;28;01mas\u001b[39;00m ParquetDataFrameLoader,\n\u001b[1;32m     94\u001b[0m )\n\u001b[0;32m---> 95\u001b[0m \u001b[38;5;28;01mfrom\u001b[39;00m \u001b[38;5;21;01mtorchdata\u001b[39;00m\u001b[38;5;21;01m.\u001b[39;00m\u001b[38;5;21;01mdatapipes\u001b[39;00m\u001b[38;5;21;01m.\u001b[39;00m\u001b[38;5;21;01miter\u001b[39;00m\u001b[38;5;21;01m.\u001b[39;00m\u001b[38;5;21;01mutil\u001b[39;00m\u001b[38;5;21;01m.\u001b[39;00m\u001b[38;5;21;01mdecompressor\u001b[39;00m \u001b[38;5;28;01mimport\u001b[39;00m (\n\u001b[1;32m     96\u001b[0m     DecompressorIterDataPipe \u001b[38;5;28;01mas\u001b[39;00m Decompressor,\n\u001b[1;32m     97\u001b[0m     ExtractorIterDataPipe \u001b[38;5;28;01mas\u001b[39;00m Extractor,\n\u001b[1;32m     98\u001b[0m )\n\u001b[1;32m     99\u001b[0m \u001b[38;5;28;01mfrom\u001b[39;00m \u001b[38;5;21;01mtorchdata\u001b[39;00m\u001b[38;5;21;01m.\u001b[39;00m\u001b[38;5;21;01mdatapipes\u001b[39;00m\u001b[38;5;21;01m.\u001b[39;00m\u001b[38;5;21;01miter\u001b[39;00m\u001b[38;5;21;01m.\u001b[39;00m\u001b[38;5;21;01mutil\u001b[39;00m\u001b[38;5;21;01m.\u001b[39;00m\u001b[38;5;21;01mdistributed\u001b[39;00m \u001b[38;5;28;01mimport\u001b[39;00m FullSyncIterDataPipe \u001b[38;5;28;01mas\u001b[39;00m FullSync\n\u001b[1;32m    100\u001b[0m \u001b[38;5;28;01mfrom\u001b[39;00m \u001b[38;5;21;01mtorchdata\u001b[39;00m\u001b[38;5;21;01m.\u001b[39;00m\u001b[38;5;21;01mdatapipes\u001b[39;00m\u001b[38;5;21;01m.\u001b[39;00m\u001b[38;5;21;01miter\u001b[39;00m\u001b[38;5;21;01m.\u001b[39;00m\u001b[38;5;21;01mutil\u001b[39;00m\u001b[38;5;21;01m.\u001b[39;00m\u001b[38;5;21;01mhashchecker\u001b[39;00m \u001b[38;5;28;01mimport\u001b[39;00m HashCheckerIterDataPipe \u001b[38;5;28;01mas\u001b[39;00m HashChecker\n",
      "File \u001b[0;32m~/.local/lib/python3.10/site-packages/torchdata/datapipes/iter/util/decompressor.py:9\u001b[0m\n\u001b[1;32m      7\u001b[0m \u001b[38;5;28;01mimport\u001b[39;00m \u001b[38;5;21;01mbz2\u001b[39;00m\n\u001b[1;32m      8\u001b[0m \u001b[38;5;28;01mimport\u001b[39;00m \u001b[38;5;21;01mgzip\u001b[39;00m\n\u001b[0;32m----> 9\u001b[0m \u001b[38;5;28;01mimport\u001b[39;00m \u001b[38;5;21;01mlzma\u001b[39;00m\n\u001b[1;32m     10\u001b[0m \u001b[38;5;28;01mimport\u001b[39;00m \u001b[38;5;21;01mos\u001b[39;00m\n\u001b[1;32m     11\u001b[0m \u001b[38;5;28;01mimport\u001b[39;00m \u001b[38;5;21;01mpathlib\u001b[39;00m\n",
      "File \u001b[0;32m/usr/local/lib/python3.10/lzma.py:27\u001b[0m\n\u001b[1;32m     25\u001b[0m \u001b[38;5;28;01mimport\u001b[39;00m \u001b[38;5;21;01mio\u001b[39;00m\n\u001b[1;32m     26\u001b[0m \u001b[38;5;28;01mimport\u001b[39;00m \u001b[38;5;21;01mos\u001b[39;00m\n\u001b[0;32m---> 27\u001b[0m \u001b[38;5;28;01mfrom\u001b[39;00m \u001b[38;5;21;01m_lzma\u001b[39;00m \u001b[38;5;28;01mimport\u001b[39;00m \u001b[38;5;241m*\u001b[39m\n\u001b[1;32m     28\u001b[0m \u001b[38;5;28;01mfrom\u001b[39;00m \u001b[38;5;21;01m_lzma\u001b[39;00m \u001b[38;5;28;01mimport\u001b[39;00m _encode_filter_properties, _decode_filter_properties\n\u001b[1;32m     29\u001b[0m \u001b[38;5;28;01mimport\u001b[39;00m \u001b[38;5;21;01m_compression\u001b[39;00m\n",
      "\u001b[0;31mModuleNotFoundError\u001b[0m: No module named '_lzma'"
     ]
    }
   ],
   "source": [
    "from ptls_extension_2024_research.graphs.graph import ClientItemGraph, ClientItemGraphFull\n"
   ]
  },
  {
   "cell_type": "code",
   "execution_count": null,
   "metadata": {},
   "outputs": [],
   "source": [
    "graph_file_path = 'data/graphs/weighted/train_graph.bin'\n",
    "client_item_graph = ClientItemGraphFull.from_graph_file(graph_file_path, 'cpu')"
   ]
  },
  {
   "cell_type": "code",
   "execution_count": null,
   "metadata": {},
   "outputs": [],
   "source": [
    "print(client_item_graph.g.nodes())\n"
   ]
  },
  {
   "cell_type": "code",
   "execution_count": null,
   "metadata": {},
   "outputs": [],
   "source": [
    "len(client_item_graph.g.nodes())\n"
   ]
  },
  {
   "cell_type": "code",
   "execution_count": null,
   "metadata": {},
   "outputs": [],
   "source": []
  },
  {
   "cell_type": "code",
   "execution_count": 12,
   "metadata": {},
   "outputs": [],
   "source": [
    "import pandas as pd"
   ]
  },
  {
   "cell_type": "code",
   "execution_count": 16,
   "metadata": {},
   "outputs": [
    {
     "data": {
      "text/html": [
       "<div>\n",
       "<style scoped>\n",
       "    .dataframe tbody tr th:only-of-type {\n",
       "        vertical-align: middle;\n",
       "    }\n",
       "\n",
       "    .dataframe tbody tr th {\n",
       "        vertical-align: top;\n",
       "    }\n",
       "\n",
       "    .dataframe thead th {\n",
       "        text-align: right;\n",
       "    }\n",
       "</style>\n",
       "<table border=\"1\" class=\"dataframe\">\n",
       "  <thead>\n",
       "    <tr style=\"text-align: right;\">\n",
       "      <th></th>\n",
       "      <th>customer_id</th>\n",
       "      <th>tr_datetime</th>\n",
       "      <th>mcc_code</th>\n",
       "      <th>tr_type</th>\n",
       "      <th>amount</th>\n",
       "      <th>term_id</th>\n",
       "    </tr>\n",
       "  </thead>\n",
       "  <tbody>\n",
       "    <tr>\n",
       "      <th>0</th>\n",
       "      <td>39026145</td>\n",
       "      <td>0 10:23:26</td>\n",
       "      <td>4814</td>\n",
       "      <td>1030</td>\n",
       "      <td>-2245.92</td>\n",
       "      <td>NaN</td>\n",
       "    </tr>\n",
       "    <tr>\n",
       "      <th>1</th>\n",
       "      <td>39026145</td>\n",
       "      <td>1 10:19:29</td>\n",
       "      <td>6011</td>\n",
       "      <td>7010</td>\n",
       "      <td>56147.89</td>\n",
       "      <td>NaN</td>\n",
       "    </tr>\n",
       "    <tr>\n",
       "      <th>2</th>\n",
       "      <td>39026145</td>\n",
       "      <td>1 10:20:56</td>\n",
       "      <td>4829</td>\n",
       "      <td>2330</td>\n",
       "      <td>-56147.89</td>\n",
       "      <td>NaN</td>\n",
       "    </tr>\n",
       "    <tr>\n",
       "      <th>3</th>\n",
       "      <td>39026145</td>\n",
       "      <td>1 10:39:54</td>\n",
       "      <td>5499</td>\n",
       "      <td>1010</td>\n",
       "      <td>-1392.47</td>\n",
       "      <td>NaN</td>\n",
       "    </tr>\n",
       "    <tr>\n",
       "      <th>4</th>\n",
       "      <td>39026145</td>\n",
       "      <td>2 15:33:42</td>\n",
       "      <td>5499</td>\n",
       "      <td>1010</td>\n",
       "      <td>-920.83</td>\n",
       "      <td>NaN</td>\n",
       "    </tr>\n",
       "  </tbody>\n",
       "</table>\n",
       "</div>"
      ],
      "text/plain": [
       "   customer_id tr_datetime  mcc_code  tr_type    amount term_id\n",
       "0     39026145  0 10:23:26      4814     1030  -2245.92     NaN\n",
       "1     39026145  1 10:19:29      6011     7010  56147.89     NaN\n",
       "2     39026145  1 10:20:56      4829     2330 -56147.89     NaN\n",
       "3     39026145  1 10:39:54      5499     1010  -1392.47     NaN\n",
       "4     39026145  2 15:33:42      5499     1010   -920.83     NaN"
      ]
     },
     "execution_count": 16,
     "metadata": {},
     "output_type": "execute_result"
    }
   ],
   "source": [
    "df = pd.read_csv('data/transactions.csv')\n",
    "df.head()"
   ]
  },
  {
   "cell_type": "code",
   "execution_count": 17,
   "metadata": {},
   "outputs": [
    {
     "data": {
      "text/plain": [
       "array([4814, 6011, 4829, 5499, 5541, 5200, 5732, 6010, 5331, 5912, 5411,\n",
       "       5812, 6012, 5719, 5722, 5621, 5814, 5921, 5941, 5691, 5813, 5211,\n",
       "       4812, 5945, 5983, 5999, 5943, 5533, 6300, 7832, 8099, 5992, 3501,\n",
       "       6536, 7997, 5641, 4722, 5661, 5651, 7011, 5699, 5942, 7298, 7999,\n",
       "       5712, 5511, 5422, 5399, 4900, 7538, 5949, 5977, 5948, 5631, 5311,\n",
       "       5462, 4112, 8999, 8021, 5714, 5251, 4789, 7542, 5947, 3000, 8043,\n",
       "       5944, 5734, 5611, 5532, 4816, 7311, 5655, 6051, 7994, 5995, 5309,\n",
       "       5964, 8299, 8244, 4111, 4511, 9399, 5441, 7922, 5261, 7699, 7995,\n",
       "       7629, 5816, 5735, 5039, 5300, 5199, 4121, 5065, 7399, 7299, 8011,\n",
       "       7230, 9222, 5946, 5131, 5994, 5231, 8071, 5094, 5047, 5072, 7210,\n",
       "       5976, 5045, 7932, 4215, 5542, 5099, 5713, 4899, 7933, 5681, 5193,\n",
       "       1711, 6211, 8398, 5599, 5993, 8062, 5169, 4214, 5733, 5013, 7221,\n",
       "       5571, 7993, 5971, 5968, 7372, 5074, 5044, 5811, 5111, 8641, 7512,\n",
       "       7523, 9311, 8220, 7991, 7996, 4784, 5931, 7841, 3351, 4411, 1799,\n",
       "       5192, 5122,  742, 6513, 7278, 5969, 5970, 4131, 5965, 7395, 5950,\n",
       "       5085, 7273, 5137, 5310, 7531, 7829, 7375, 2741, 5172, 8699, 7216,\n",
       "       5451, 5967, 7338, 9402, 5697, 1731, 5940, 9211])"
      ]
     },
     "execution_count": 17,
     "metadata": {},
     "output_type": "execute_result"
    }
   ],
   "source": [
    "df['mcc_code'].unique()"
   ]
  },
  {
   "cell_type": "code",
   "execution_count": 18,
   "metadata": {},
   "outputs": [
    {
     "data": {
      "text/plain": [
       "184"
      ]
     },
     "execution_count": 18,
     "metadata": {},
     "output_type": "execute_result"
    }
   ],
   "source": [
    "len(df['mcc_code'].unique())"
   ]
  },
  {
   "cell_type": "code",
   "execution_count": null,
   "metadata": {},
   "outputs": [],
   "source": []
  },
  {
   "cell_type": "code",
   "execution_count": 19,
   "metadata": {},
   "outputs": [],
   "source": [
    "ptls_train_df = pd.read_parquet('data/train_trx.parquet/')"
   ]
  },
  {
   "cell_type": "code",
   "execution_count": 20,
   "metadata": {},
   "outputs": [
    {
     "data": {
      "text/html": [
       "<div>\n",
       "<style scoped>\n",
       "    .dataframe tbody tr th:only-of-type {\n",
       "        vertical-align: middle;\n",
       "    }\n",
       "\n",
       "    .dataframe tbody tr th {\n",
       "        vertical-align: top;\n",
       "    }\n",
       "\n",
       "    .dataframe thead th {\n",
       "        text-align: right;\n",
       "    }\n",
       "</style>\n",
       "<table border=\"1\" class=\"dataframe\">\n",
       "  <thead>\n",
       "    <tr style=\"text-align: right;\">\n",
       "      <th></th>\n",
       "      <th>customer_id</th>\n",
       "      <th>event_time</th>\n",
       "      <th>amount</th>\n",
       "      <th>mcc_code</th>\n",
       "      <th>tr_type</th>\n",
       "      <th>term_id</th>\n",
       "      <th>trx_count</th>\n",
       "      <th>target</th>\n",
       "    </tr>\n",
       "  </thead>\n",
       "  <tbody>\n",
       "    <tr>\n",
       "      <th>0</th>\n",
       "      <td>10058778</td>\n",
       "      <td>[23.35869212962963, 23.359502314814815, 36.498...</td>\n",
       "      <td>[13.420652589715486, -13.420652589715486, 14.6...</td>\n",
       "      <td>[2, 6, 3, 2, 2, 3, 2, 3, 2, 6, 6, 3, 10, 3, 2,...</td>\n",
       "      <td>[8, 13, 6, 3, 3, 23, 3, 11, 8, 19, 20, 6, 2, 6...</td>\n",
       "      <td>[2, 2, 2, 2, 2, 2, 2, 2, 2, 2, 2, 2, 2, 2, 2, ...</td>\n",
       "      <td>142</td>\n",
       "      <td>1.0</td>\n",
       "    </tr>\n",
       "    <tr>\n",
       "      <th>1</th>\n",
       "      <td>10230827</td>\n",
       "      <td>[0.25885416666666666, 1.5346412037037038, 1.65...</td>\n",
       "      <td>[13.015188216272872, -10.01949835204266, -9.76...</td>\n",
       "      <td>[3, 2, 5, 8, 2, 2, 2, 4, 2, 2, 4, 2, 2, 4, 3, ...</td>\n",
       "      <td>[29, 3, 5, 5, 3, 3, 3, 4, 3, 3, 4, 3, 3, 4, 29...</td>\n",
       "      <td>[2, 2, 2, 2, 2, 2, 2, 2, 2, 2, 2, 2, 2, 2, 2, ...</td>\n",
       "      <td>279</td>\n",
       "      <td>0.0</td>\n",
       "    </tr>\n",
       "    <tr>\n",
       "      <th>2</th>\n",
       "      <td>11681378</td>\n",
       "      <td>[0.3015393518518519, 0.3589583333333333, 0.875...</td>\n",
       "      <td>[-8.41023807171957, -7.9242460340479255, -9.91...</td>\n",
       "      <td>[4, 7, 2, 2, 11, 5, 7, 6, 2, 7, 7, 3, 6, 7, 7,...</td>\n",
       "      <td>[4, 2, 27, 28, 2, 5, 2, 13, 3, 2, 2, 9, 13, 2,...</td>\n",
       "      <td>[2, 2, 2, 2, 2, 2, 2, 2, 2, 2, 2, 2, 2, 2, 2, ...</td>\n",
       "      <td>881</td>\n",
       "      <td>1.0</td>\n",
       "    </tr>\n",
       "    <tr>\n",
       "      <th>3</th>\n",
       "      <td>14123285</td>\n",
       "      <td>[15.489155092592593, 21.68777777777778, 23.612...</td>\n",
       "      <td>[12.792045221523114, 12.216683253401992, -10.7...</td>\n",
       "      <td>[3, 3, 2, 2, 2, 2, 3, 3, 2, 2, 3, 3, 2, 2, 2, ...</td>\n",
       "      <td>[11, 9, 16, 25, 25, 16, 11, 6, 16, 25, 11, 17,...</td>\n",
       "      <td>[2, 2, 2, 2, 2, 2, 2, 2, 2, 2, 2, 2, 2, 2, 2, ...</td>\n",
       "      <td>1051</td>\n",
       "      <td>0.0</td>\n",
       "    </tr>\n",
       "    <tr>\n",
       "      <th>4</th>\n",
       "      <td>16536678</td>\n",
       "      <td>[75.40552083333333, 75.59731481481481, 83.5602...</td>\n",
       "      <td>[14.336942434053569, -9.326395693771916, -9.32...</td>\n",
       "      <td>[2, 4, 4, 4, 4, 2, 4, 4, 4, 2, 4, 4, 4, 4, 4, ...</td>\n",
       "      <td>[8, 4, 4, 4, 4, 8, 4, 4, 4, 8, 4, 4, 4, 4, 4, ...</td>\n",
       "      <td>[2, 2, 2, 2, 2, 2, 2, 2, 2, 2, 2, 2, 2, 2, 2, ...</td>\n",
       "      <td>128</td>\n",
       "      <td>0.0</td>\n",
       "    </tr>\n",
       "  </tbody>\n",
       "</table>\n",
       "</div>"
      ],
      "text/plain": [
       "  customer_id                                         event_time  \\\n",
       "0    10058778  [23.35869212962963, 23.359502314814815, 36.498...   \n",
       "1    10230827  [0.25885416666666666, 1.5346412037037038, 1.65...   \n",
       "2    11681378  [0.3015393518518519, 0.3589583333333333, 0.875...   \n",
       "3    14123285  [15.489155092592593, 21.68777777777778, 23.612...   \n",
       "4    16536678  [75.40552083333333, 75.59731481481481, 83.5602...   \n",
       "\n",
       "                                              amount  \\\n",
       "0  [13.420652589715486, -13.420652589715486, 14.6...   \n",
       "1  [13.015188216272872, -10.01949835204266, -9.76...   \n",
       "2  [-8.41023807171957, -7.9242460340479255, -9.91...   \n",
       "3  [12.792045221523114, 12.216683253401992, -10.7...   \n",
       "4  [14.336942434053569, -9.326395693771916, -9.32...   \n",
       "\n",
       "                                            mcc_code  \\\n",
       "0  [2, 6, 3, 2, 2, 3, 2, 3, 2, 6, 6, 3, 10, 3, 2,...   \n",
       "1  [3, 2, 5, 8, 2, 2, 2, 4, 2, 2, 4, 2, 2, 4, 3, ...   \n",
       "2  [4, 7, 2, 2, 11, 5, 7, 6, 2, 7, 7, 3, 6, 7, 7,...   \n",
       "3  [3, 3, 2, 2, 2, 2, 3, 3, 2, 2, 3, 3, 2, 2, 2, ...   \n",
       "4  [2, 4, 4, 4, 4, 2, 4, 4, 4, 2, 4, 4, 4, 4, 4, ...   \n",
       "\n",
       "                                             tr_type  \\\n",
       "0  [8, 13, 6, 3, 3, 23, 3, 11, 8, 19, 20, 6, 2, 6...   \n",
       "1  [29, 3, 5, 5, 3, 3, 3, 4, 3, 3, 4, 3, 3, 4, 29...   \n",
       "2  [4, 2, 27, 28, 2, 5, 2, 13, 3, 2, 2, 9, 13, 2,...   \n",
       "3  [11, 9, 16, 25, 25, 16, 11, 6, 16, 25, 11, 17,...   \n",
       "4  [8, 4, 4, 4, 4, 8, 4, 4, 4, 8, 4, 4, 4, 4, 4, ...   \n",
       "\n",
       "                                             term_id  trx_count  target  \n",
       "0  [2, 2, 2, 2, 2, 2, 2, 2, 2, 2, 2, 2, 2, 2, 2, ...        142     1.0  \n",
       "1  [2, 2, 2, 2, 2, 2, 2, 2, 2, 2, 2, 2, 2, 2, 2, ...        279     0.0  \n",
       "2  [2, 2, 2, 2, 2, 2, 2, 2, 2, 2, 2, 2, 2, 2, 2, ...        881     1.0  \n",
       "3  [2, 2, 2, 2, 2, 2, 2, 2, 2, 2, 2, 2, 2, 2, 2, ...       1051     0.0  \n",
       "4  [2, 2, 2, 2, 2, 2, 2, 2, 2, 2, 2, 2, 2, 2, 2, ...        128     0.0  "
      ]
     },
     "execution_count": 20,
     "metadata": {},
     "output_type": "execute_result"
    }
   ],
   "source": [
    "ptls_train_df.head()"
   ]
  },
  {
   "cell_type": "code",
   "execution_count": 23,
   "metadata": {},
   "outputs": [],
   "source": [
    "mcc_ids = {el for arr in ptls_train_df['mcc_code'] for el in arr}"
   ]
  },
  {
   "cell_type": "code",
   "execution_count": 25,
   "metadata": {},
   "outputs": [
    {
     "name": "stdout",
     "output_type": "stream",
     "text": [
      "{2, 3, 4, 5, 6, 7, 8, 9, 10, 11, 12, 13, 14, 15, 16, 17, 18, 19, 20, 21, 22, 23, 24, 25, 26, 27, 28, 29, 30, 31, 32, 33, 34, 35, 36, 37, 38, 39, 40, 41, 42, 43, 44, 45, 46, 47, 48, 49, 50, 51, 52, 53, 54, 55, 56, 57, 58, 59, 60, 61, 62, 63, 64, 65, 66, 67, 68, 69, 70, 71, 72, 73, 74, 75, 76, 77, 78, 79, 80, 81, 82, 83, 84, 85, 86, 87, 88, 89, 90, 91, 92, 93, 94, 95, 96, 97, 98, 99, 100, 101, 102, 103, 104, 105, 106, 107, 108, 109, 110, 111, 112, 113, 114, 115, 116, 117, 118, 119, 120, 121, 122, 123, 124, 125, 126, 127, 128, 129, 130, 131, 132, 133, 134, 135, 136, 137, 138, 139, 140, 141, 142, 143, 144, 145, 146, 147, 148, 149, 150, 151, 152, 153, 154, 155, 156, 157, 158, 159, 160, 161, 162, 163, 164, 165, 166, 167, 168, 169, 170, 171, 172, 173, 174, 175, 176, 177, 178, 179, 180, 181, 182, 183, 184, 185}\n"
     ]
    }
   ],
   "source": [
    "print(mcc_ids)"
   ]
  },
  {
   "cell_type": "code",
   "execution_count": 26,
   "metadata": {},
   "outputs": [
    {
     "name": "stdout",
     "output_type": "stream",
     "text": [
      "\u001b[0;31mSignature:\u001b[0m\n",
      "\u001b[0mdf\u001b[0m\u001b[0;34m.\u001b[0m\u001b[0mto_parquet\u001b[0m\u001b[0;34m(\u001b[0m\u001b[0;34m\u001b[0m\n",
      "\u001b[0;34m\u001b[0m    \u001b[0mpath\u001b[0m\u001b[0;34m:\u001b[0m \u001b[0;34m'FilePath | WriteBuffer[bytes] | None'\u001b[0m \u001b[0;34m=\u001b[0m \u001b[0;32mNone\u001b[0m\u001b[0;34m,\u001b[0m\u001b[0;34m\u001b[0m\n",
      "\u001b[0;34m\u001b[0m    \u001b[0mengine\u001b[0m\u001b[0;34m:\u001b[0m \u001b[0;34m\"Literal['auto', 'pyarrow', 'fastparquet']\"\u001b[0m \u001b[0;34m=\u001b[0m \u001b[0;34m'auto'\u001b[0m\u001b[0;34m,\u001b[0m\u001b[0;34m\u001b[0m\n",
      "\u001b[0;34m\u001b[0m    \u001b[0mcompression\u001b[0m\u001b[0;34m:\u001b[0m \u001b[0;34m'str | None'\u001b[0m \u001b[0;34m=\u001b[0m \u001b[0;34m'snappy'\u001b[0m\u001b[0;34m,\u001b[0m\u001b[0;34m\u001b[0m\n",
      "\u001b[0;34m\u001b[0m    \u001b[0mindex\u001b[0m\u001b[0;34m:\u001b[0m \u001b[0;34m'bool | None'\u001b[0m \u001b[0;34m=\u001b[0m \u001b[0;32mNone\u001b[0m\u001b[0;34m,\u001b[0m\u001b[0;34m\u001b[0m\n",
      "\u001b[0;34m\u001b[0m    \u001b[0mpartition_cols\u001b[0m\u001b[0;34m:\u001b[0m \u001b[0;34m'list[str] | None'\u001b[0m \u001b[0;34m=\u001b[0m \u001b[0;32mNone\u001b[0m\u001b[0;34m,\u001b[0m\u001b[0;34m\u001b[0m\n",
      "\u001b[0;34m\u001b[0m    \u001b[0mstorage_options\u001b[0m\u001b[0;34m:\u001b[0m \u001b[0;34m'StorageOptions | None'\u001b[0m \u001b[0;34m=\u001b[0m \u001b[0;32mNone\u001b[0m\u001b[0;34m,\u001b[0m\u001b[0;34m\u001b[0m\n",
      "\u001b[0;34m\u001b[0m    \u001b[0;34m**\u001b[0m\u001b[0mkwargs\u001b[0m\u001b[0;34m,\u001b[0m\u001b[0;34m\u001b[0m\n",
      "\u001b[0;34m\u001b[0m\u001b[0;34m)\u001b[0m \u001b[0;34m->\u001b[0m \u001b[0;34m'bytes | None'\u001b[0m\u001b[0;34m\u001b[0m\u001b[0;34m\u001b[0m\u001b[0m\n",
      "\u001b[0;31mDocstring:\u001b[0m\n",
      "Write a DataFrame to the binary parquet format.\n",
      "\n",
      "This function writes the dataframe as a `parquet file\n",
      "<https://parquet.apache.org/>`_. You can choose different parquet\n",
      "backends, and have the option of compression. See\n",
      ":ref:`the user guide <io.parquet>` for more details.\n",
      "\n",
      "Parameters\n",
      "----------\n",
      "path : str, path object, file-like object, or None, default None\n",
      "    String, path object (implementing ``os.PathLike[str]``), or file-like\n",
      "    object implementing a binary ``write()`` function. If None, the result is\n",
      "    returned as bytes. If a string or path, it will be used as Root Directory\n",
      "    path when writing a partitioned dataset.\n",
      "\n",
      "    .. versionchanged:: 1.2.0\n",
      "\n",
      "    Previously this was \"fname\"\n",
      "\n",
      "engine : {'auto', 'pyarrow', 'fastparquet'}, default 'auto'\n",
      "    Parquet library to use. If 'auto', then the option\n",
      "    ``io.parquet.engine`` is used. The default ``io.parquet.engine``\n",
      "    behavior is to try 'pyarrow', falling back to 'fastparquet' if\n",
      "    'pyarrow' is unavailable.\n",
      "compression : str or None, default 'snappy'\n",
      "    Name of the compression to use. Use ``None`` for no compression.\n",
      "    Supported options: 'snappy', 'gzip', 'brotli', 'lz4', 'zstd'.\n",
      "index : bool, default None\n",
      "    If ``True``, include the dataframe's index(es) in the file output.\n",
      "    If ``False``, they will not be written to the file.\n",
      "    If ``None``, similar to ``True`` the dataframe's index(es)\n",
      "    will be saved. However, instead of being saved as values,\n",
      "    the RangeIndex will be stored as a range in the metadata so it\n",
      "    doesn't require much space and is faster. Other indexes will\n",
      "    be included as columns in the file output.\n",
      "partition_cols : list, optional, default None\n",
      "    Column names by which to partition the dataset.\n",
      "    Columns are partitioned in the order they are given.\n",
      "    Must be None if path is not a string.\n",
      "storage_options : dict, optional\n",
      "    Extra options that make sense for a particular storage connection, e.g.\n",
      "    host, port, username, password, etc. For HTTP(S) URLs the key-value pairs\n",
      "    are forwarded to ``urllib.request.Request`` as header options. For other\n",
      "    URLs (e.g. starting with \"s3://\", and \"gcs://\") the key-value pairs are\n",
      "    forwarded to ``fsspec.open``. Please see ``fsspec`` and ``urllib`` for more\n",
      "    details, and for more examples on storage options refer `here\n",
      "    <https://pandas.pydata.org/docs/user_guide/io.html?\n",
      "    highlight=storage_options#reading-writing-remote-files>`_.\n",
      "\n",
      "    .. versionadded:: 1.2.0\n",
      "\n",
      "**kwargs\n",
      "    Additional arguments passed to the parquet library. See\n",
      "    :ref:`pandas io <io.parquet>` for more details.\n",
      "\n",
      "Returns\n",
      "-------\n",
      "bytes if no path argument is provided else None\n",
      "\n",
      "See Also\n",
      "--------\n",
      "read_parquet : Read a parquet file.\n",
      "DataFrame.to_orc : Write an orc file.\n",
      "DataFrame.to_csv : Write a csv file.\n",
      "DataFrame.to_sql : Write to a sql table.\n",
      "DataFrame.to_hdf : Write to hdf.\n",
      "\n",
      "Notes\n",
      "-----\n",
      "This function requires either the `fastparquet\n",
      "<https://pypi.org/project/fastparquet>`_ or `pyarrow\n",
      "<https://arrow.apache.org/docs/python/>`_ library.\n",
      "\n",
      "Examples\n",
      "--------\n",
      ">>> df = pd.DataFrame(data={'col1': [1, 2], 'col2': [3, 4]})\n",
      ">>> df.to_parquet('df.parquet.gzip',\n",
      "...               compression='gzip')  # doctest: +SKIP\n",
      ">>> pd.read_parquet('df.parquet.gzip')  # doctest: +SKIP\n",
      "   col1  col2\n",
      "0     1     3\n",
      "1     2     4\n",
      "\n",
      "If you want to get a buffer to the parquet content you can use a io.BytesIO\n",
      "object, as long as you don't use partition_cols, which creates multiple files.\n",
      "\n",
      ">>> import io\n",
      ">>> f = io.BytesIO()\n",
      ">>> df.to_parquet(f)\n",
      ">>> f.seek(0)\n",
      "0\n",
      ">>> content = f.read()\n",
      "\u001b[0;31mFile:\u001b[0m      ~/.local/lib/python3.10/site-packages/pandas/core/frame.py\n",
      "\u001b[0;31mType:\u001b[0m      method"
     ]
    }
   ],
   "source": [
    "?df.to_parquet"
   ]
  },
  {
   "cell_type": "code",
   "execution_count": null,
   "metadata": {},
   "outputs": [],
   "source": []
  },
  {
   "cell_type": "code",
   "execution_count": 28,
   "metadata": {},
   "outputs": [],
   "source": [
    "import pickle\n",
    "\n",
    "with open('data/train_trx.parquet', 'rb') as f:\n",
    "    data = pickle.load(f)"
   ]
  },
  {
   "cell_type": "code",
   "execution_count": 30,
   "metadata": {},
   "outputs": [
    {
     "data": {
      "text/plain": [
       "list"
      ]
     },
     "execution_count": 30,
     "metadata": {},
     "output_type": "execute_result"
    }
   ],
   "source": [
    "type(data)"
   ]
  },
  {
   "cell_type": "code",
   "execution_count": 31,
   "metadata": {},
   "outputs": [
    {
     "data": {
      "text/plain": [
       "{'target': 1,\n",
       " 'customer_id': 22899,\n",
       " 'feature_arrays': {'mcc_code': array([ 3,  3,  1,  1,  2,  1,  1,  3,  1,  3,  2,  1,  2,  3,  1,  2,  7,\n",
       "          8,  3,  1,  1,  1,  1,  3,  3,  2,  7,  2,  1,  3,  1,  2,  5,  5,\n",
       "          6,  3,  1,  1,  5,  2,  5,  1,  5,  2,  1,  1,  1,  2,  5,  1,  3,\n",
       "          3,  2,  2,  1,  3,  1,  6,  1,  3,  1,  1,  3,  3,  1,  1,  1,  1,\n",
       "          1,  1,  1,  1,  1,  3,  1,  3,  6,  1,  5,  2,  1,  3,  3,  4,  1,\n",
       "          1,  4,  7,  6,  1,  1,  6,  1,  5,  6,  1,  1,  5,  5,  6,  7,  3,\n",
       "          2,  7,  1,  5,  5, 49,  3,  1,  6,  2,  3,  1,  1,  1,  2,  2,  1,\n",
       "          2,  1,  1,  1,  5,  3,  1,  7,  7,  6,  3,  2,  1,  1,  1,  3,  1,\n",
       "          3,  1,  1,  1,  1,  1,  5,  5,  2,  6,  5,  1,  2,  3,  3,  1,  3,\n",
       "          3,  2,  1,  3,  3,  1,  2,  1,  1,  3,  3,  1,  5,  4,  1,  1,  3,\n",
       "          1,  1,  5,  5,  1,  3,  3,  3,  2,  6,  1,  1,  3,  6,  1,  3,  1,\n",
       "          1,  1,  6,  2,  3,  1,  3,  1,  5,  5,  1,  1,  1,  1,  6,  1,  3,\n",
       "          1,  2,  5,  1,  2,  5,  2,  3,  4,  4,  4,  1,  1,  5,  5,  7,  1,\n",
       "          1,  1,  1,  5,  3,  3,  9,  9,  6, 26,  5,  1,  1]),\n",
       "  'tr_type': array([ 3,  3,  2,  2,  8,  2,  7,  3,  2,  3,  8,  2,  8,  3,  2,  8,  1,\n",
       "          1,  3,  2,  2, 17,  7,  3,  3, 10,  4,  8,  2,  3,  7,  5, 14, 13,\n",
       "          4,  3,  7,  7,  6,  5,  6,  7,  6,  5,  2, 17,  7,  5,  6,  7,  3,\n",
       "          3,  8,  8,  2,  3,  2,  4,  7,  3,  7,  7,  3,  3,  7,  2,  2,  2,\n",
       "          2,  2,  2,  2,  2,  3,  2,  3,  4,  7, 12,  8,  7,  3,  3,  4, 17,\n",
       "          2,  4,  4,  4, 17,  2,  4,  7,  6,  4,  7,  7, 18, 19,  4,  4,  3,\n",
       "          8,  4,  7, 13, 14,  4,  3,  7,  4, 43,  3,  2, 27, 26,  8, 10,  2,\n",
       "         43,  2,  7,  7, 12,  3,  7,  4,  4,  4,  3,  8,  2,  2,  2,  3,  2,\n",
       "          3,  2,  2,  2,  7,  7, 13, 14,  8,  1,  6,  2,  5,  3,  3,  2,  3,\n",
       "          3,  5,  2,  3,  3,  7,  5,  2,  2,  3,  3,  7,  6,  4, 17,  2,  3,\n",
       "          7,  7, 14, 13,  2,  3,  3,  3, 16,  4,  2,  2,  3,  4,  7,  3,  2,\n",
       "         17,  2,  4, 10,  3,  2,  3,  7, 18, 19,  7,  7, 17,  2,  4,  7,  3,\n",
       "          7,  5,  6,  7, 49,  6,  5,  3,  4,  4,  4,  7,  7, 13, 14,  1,  7,\n",
       "         17,  2,  7,  6,  3,  3,  1,  1,  4, 11,  6,  7,  2]),\n",
       "  'amount': array([-0.44737662, -0.41051711, -0.56985036, -0.63415931,  0.55454771,\n",
       "         -0.55087779,  0.61859108, -0.41051711, -0.56712191, -0.32499834,\n",
       "          0.56985036, -0.56712191,  0.53298007, -0.41051711, -0.52737575,\n",
       "          0.56985036, -0.44737662, -0.41976655, -0.41051711, -0.55798068,\n",
       "         -0.70247355, -0.51594788,  0.52111071, -0.52111071, -0.32499834,\n",
       "          0.45924424, -0.44730482,  0.65546231, -0.65546231, -0.3736693 ,\n",
       "          0.72785831,  0.49611097, -0.48245049, -0.72741317, -0.47319835,\n",
       "         -0.34652737,  0.53298007,  0.56120549, -0.53298007,  0.32499834,\n",
       "         -0.32499834,  0.45480967, -0.4559534 ,  0.4559534 , -0.46894114,\n",
       "         -0.44711003,  0.41051711,  0.41061266, -0.41061266,  0.53298007,\n",
       "         -0.52177147, -0.43207748,  0.55798068,  0.62828946, -0.62366099,\n",
       "         -0.41051711, -0.46894114, -0.4723737 ,  0.49611097, -0.49611097,\n",
       "          0.56985036,  0.50580862, -0.50580862, -0.3736693 ,  0.67336064,\n",
       "         -0.60672123, -0.60672123, -0.56985036, -0.49611097, -0.49611097,\n",
       "         -0.49611097, -0.49611097, -0.48424217, -0.53298007, -0.48424217,\n",
       "         -0.41051711, -0.41051711,  0.55454771, -0.55454771,  0.55454771,\n",
       "          0.50580862, -0.50580862, -0.36181129, -0.53595391, -0.48289557,\n",
       "         -0.49611097, -0.44571833, -0.49611097, -0.49179145, -0.48289557,\n",
       "         -0.6164196 , -0.48708992,  0.65546231, -0.65546231, -0.4838418 ,\n",
       "          0.69233366,  0.49611097, -0.69233366, -0.44737662, -0.43278187,\n",
       "         -0.44732343, -0.34652737,  0.53298007, -0.49610567,  0.67703066,\n",
       "         -0.67703066, -0.43207748, -0.44894869, -0.43207748,  0.55454771,\n",
       "         -0.49524224,  0.61859108, -0.41051711, -0.6164196 , -0.48289557,\n",
       "         -0.46894114,  0.5380498 ,  0.59961821, -0.61415569,  0.66516073,\n",
       "         -0.66471559,  0.69233366,  0.43207748, -0.69233366, -0.41051711,\n",
       "          0.5642459 , -0.42878711, -0.49611097, -0.50874048, -0.34652737,\n",
       "          0.65546231, -0.52737575, -0.59485141, -0.56985036, -0.41051711,\n",
       "         -0.53298007, -0.41051711, -0.46894114, -0.48424217, -0.56985036,\n",
       "          0.46894114,  0.61859108, -0.61816381, -0.37324212,  0.64359241,\n",
       "         -0.50746689, -0.61056824, -0.55454771,  0.48424217, -0.41051711,\n",
       "         -0.41051711, -0.54693581, -0.41051711, -0.3736693 ,  0.53298007,\n",
       "         -0.53298007, -0.3736693 , -0.32499834,  0.56985036,  0.51400801,\n",
       "         -0.49611097, -0.41051711, -0.3736693 , -0.34472745,  0.62828946,\n",
       "         -0.62828946, -0.49934057, -0.48289557, -0.50580862, -0.32227593,\n",
       "          0.56985036,  0.61859108, -0.33789671, -0.58277344, -0.56712191,\n",
       "         -0.41051711, -0.41051711, -0.45924424,  0.56985036, -0.50000715,\n",
       "         -0.46894114, -0.44737662, -0.41051711, -0.52514276,  0.56985036,\n",
       "         -0.41051711, -0.46894114, -0.48289557, -0.53298007, -0.49026998,\n",
       "          0.52111071, -0.41051711, -0.51400801, -0.40491495,  0.52111071,\n",
       "         -0.52111071, -0.27643327,  0.3736693 ,  0.56985036, -0.48289557,\n",
       "         -0.50580862, -0.50651317,  0.3736693 , -0.34652737,  0.53298007,\n",
       "          0.23879371, -0.23879371,  0.53557532,  0.49611097, -0.47713996,\n",
       "          0.47713996, -0.23879371, -0.52414106, -0.49166441, -0.52825498,\n",
       "          0.65625429,  0.43207748, -0.65546231, -0.41051711, -0.44731016,\n",
       "          0.56985036, -0.48289557, -0.55454771,  0.61298655, -0.58172007,\n",
       "         -0.46894114, -0.3736693 , -0.4627432 , -0.46163614, -0.51238787,\n",
       "         -0.35317634, -0.51006614,  0.61859108, -0.60672123]),\n",
       "  'term_id': array([     1,      1,      1,      1,      1,      1,      1,      1,\n",
       "              1,      1,      1,      1,      1,      1,      1,      1,\n",
       "              1,      1,      1,      1,      1,      1,      1,      1,\n",
       "              1,      1,      1,      1,      1,      1,      1,      1,\n",
       "              1,      1,      1,      1,      1,      1,      1,      1,\n",
       "              1,      1,      1,      1,      1,      1,      1,      1,\n",
       "              1,      1,      1,      1,      1,      1,      1,      1,\n",
       "              1,      1,      1,      1,      1,      1,      1,      1,\n",
       "              1,      1,      1,      1,      1,      1,      1,      1,\n",
       "              1,      1,      1,      1,  41728,      1,      1,      1,\n",
       "              1,      1,      1,      1,      1,      1,      1, 202625,\n",
       "          41728,      1,      1,  41728,  29541,      6,  41728, 171722,\n",
       "          29541,  29541,  29541,  41728,  11758,      4,  32491, 227658,\n",
       "          10896,      4,      4, 343471,      4,  33798, 343472, 343473,\n",
       "              5,  23415, 220539, 220539,  29541,      5,  34038,  13616,\n",
       "         110607, 171723, 171723, 171723,     11,  26067,  84201,  84201,\n",
       "          41728,      5,  32491,  38341,  38341,  38341,      9,  38341,\n",
       "             11,  38341,  38341,  23415, 123650,  38341,      5,      5,\n",
       "           9950, 343474,      3,  38341,      7,      5,     11,  38341,\n",
       "              2,      3,      4,  19903,      6,      7, 123650,      6,\n",
       "         123650, 123650,      4,      2, 147966,      2, 220533,  12935,\n",
       "          12935,      6,  29541,  29541,      6,      6,  79140,     10,\n",
       "             10,      7,  70199,  41728, 123650,  79140,     11,  41728,\n",
       "          38341,      9,  59918,   5674,   5674,  41728,     22,      8,\n",
       "          12935,  12935,  29541,  29541,  29541,  29541, 171722,  96189,\n",
       "          96189,  41728, 107101,     23,  29541,     22,     22, 171722,\n",
       "             26,     26,     26,      4,  82390, 220533,  88226,  56427,\n",
       "          56427,     21,     21, 177034,  29541,  96189,  96189,  33798,\n",
       "             29,     30,     13, 220531, 220531,  41728,      1,      7,\n",
       "         107101,  40021])},\n",
       " 'event_time': array([  1.64357639,   2.87      ,   5.78633102,   6.51969907,\n",
       "         28.44515046,  28.48238426,  48.57027778,  52.05112269,\n",
       "         53.46085648,  56.42430556,  61.8353125 ,  61.84043981,\n",
       "         61.87018519,  62.16251157,  62.58060185,  66.41180556,\n",
       "         66.61289352,  66.64583333,  67.15240741,  67.40369213,\n",
       "         82.63315972,  82.63333333,  83.64694444,  83.64915509,\n",
       "         84.47030093,  86.59204861,  86.66322917,  87.4012037 ,\n",
       "         87.55922454,  87.69645833,  98.80966435,  98.85122685,\n",
       "         98.86541667,  98.86572917,  99.69465278, 109.38054398,\n",
       "        110.53778935, 110.5390162 , 110.78001157, 110.90878472,\n",
       "        110.90892361, 110.91802083, 110.91980324, 110.91984954,\n",
       "        111.61263889, 111.61288194, 111.61483796, 111.6168287 ,\n",
       "        111.61694444, 113.53104167, 113.54258102, 113.5446412 ,\n",
       "        132.61460648, 145.68960648, 147.7359838 , 150.06152778,\n",
       "        151.479375  , 163.87167824, 164.68697917, 164.6880787 ,\n",
       "        164.68951389, 167.40881944, 167.40950231, 167.40986111,\n",
       "        172.46607639, 172.47136574, 172.47158565, 172.47269676,\n",
       "        172.47336806, 172.47400463, 172.47427083, 172.47466435,\n",
       "        172.47563657, 172.47585648, 172.47594907, 175.06128472,\n",
       "        175.91774306, 192.47569444, 192.4775463 , 192.4777662 ,\n",
       "        197.37538194, 197.37623843, 197.37671296, 204.53344907,\n",
       "        205.76982639, 205.76986111, 206.61869213, 206.74094907,\n",
       "        206.82770833, 207.48980324, 207.4902662 , 208.80309028,\n",
       "        210.65636574, 210.65880787, 210.80859954, 215.65074074,\n",
       "        215.6666088 , 215.6675463 , 215.66759259, 215.87287037,\n",
       "        216.26878472, 216.6646412 , 217.6846412 , 217.69509259,\n",
       "        221.61229167, 221.61390046, 221.61407407, 221.78771991,\n",
       "        222.35368056, 224.71539352, 228.57491898, 230.69665509,\n",
       "        230.79452546, 230.85990741, 231.39658565, 231.3971412 ,\n",
       "        231.41501157, 231.48350694, 231.48521991, 240.46765046,\n",
       "        240.49141204, 250.465625  , 250.46731481, 250.46780093,\n",
       "        252.05094907, 253.53111111, 255.16628472, 255.16716435,\n",
       "        255.51090278, 257.9508912 , 260.49268519, 260.50215278,\n",
       "        260.5025    , 260.77115741, 261.05865741, 261.48917824,\n",
       "        262.19847222, 262.50123843, 262.50133102, 262.65188657,\n",
       "        268.64362269, 271.4372338 , 271.44127315, 271.44134259,\n",
       "        272.78453704, 273.4371412 , 273.44905093, 273.68868056,\n",
       "        273.77886574, 273.7909375 , 274.09865741, 274.81836806,\n",
       "        277.23083333, 277.41180556, 278.5197338 , 278.53032407,\n",
       "        282.4890162 , 282.49166667, 283.53267361, 284.45596065,\n",
       "        284.4831713 , 284.51741898, 285.05667824, 288.47090278,\n",
       "        288.49532407, 288.50190972, 288.59950231, 289.62163194,\n",
       "        289.62217593, 290.39769676, 314.4687037 , 319.48538194,\n",
       "        319.48760417, 319.48771991, 319.49413194, 320.11111111,\n",
       "        321.09332176, 323.80010417, 338.48013889, 338.82736111,\n",
       "        339.55747685, 339.61275463, 340.10082176, 342.7309838 ,\n",
       "        344.48984954, 347.09601852, 348.53986111, 349.69087963,\n",
       "        349.69087963, 350.88665509, 352.44857639, 356.09383102,\n",
       "        360.45104167, 360.45149306, 363.68865741, 363.69034722,\n",
       "        363.69037037, 363.69076389, 376.46597222, 381.39701389,\n",
       "        381.39711806, 386.87243056, 396.49065972, 396.79219907,\n",
       "        397.42408565, 398.52331019, 398.5233912 , 407.45479167,\n",
       "        407.52456019, 407.6662037 , 407.66625   , 408.39342593,\n",
       "        408.69054398, 415.39946759, 421.49575231, 431.78618056,\n",
       "        431.78954861, 431.79185185, 431.79193287, 431.81736111,\n",
       "        438.37523148, 441.65042824, 441.65052083, 453.47565972,\n",
       "        453.47850694, 453.75384259, 453.75940972, 454.72725694,\n",
       "        454.91305556, 456.        , 456.        , 456.42291667,\n",
       "        456.71828704, 456.71959491])}"
      ]
     },
     "execution_count": 31,
     "metadata": {},
     "output_type": "execute_result"
    }
   ],
   "source": [
    "data[0]"
   ]
  },
  {
   "cell_type": "code",
   "execution_count": null,
   "metadata": {},
   "outputs": [],
   "source": []
  },
  {
   "cell_type": "code",
   "execution_count": 37,
   "metadata": {},
   "outputs": [],
   "source": [
    "import pandas as pd"
   ]
  },
  {
   "cell_type": "code",
   "execution_count": 38,
   "metadata": {},
   "outputs": [
    {
     "data": {
      "text/html": [
       "<div>\n",
       "<style scoped>\n",
       "    .dataframe tbody tr th:only-of-type {\n",
       "        vertical-align: middle;\n",
       "    }\n",
       "\n",
       "    .dataframe tbody tr th {\n",
       "        vertical-align: top;\n",
       "    }\n",
       "\n",
       "    .dataframe thead th {\n",
       "        text-align: right;\n",
       "    }\n",
       "</style>\n",
       "<table border=\"1\" class=\"dataframe\">\n",
       "  <thead>\n",
       "    <tr style=\"text-align: right;\">\n",
       "      <th></th>\n",
       "      <th>customer_id</th>\n",
       "      <th>tr_datetime</th>\n",
       "      <th>mcc_code</th>\n",
       "      <th>tr_type</th>\n",
       "      <th>amount</th>\n",
       "      <th>term_id</th>\n",
       "    </tr>\n",
       "  </thead>\n",
       "  <tbody>\n",
       "    <tr>\n",
       "      <th>0</th>\n",
       "      <td>39026145</td>\n",
       "      <td>0 10:23:26</td>\n",
       "      <td>4814</td>\n",
       "      <td>1030</td>\n",
       "      <td>-2245.92</td>\n",
       "      <td>NaN</td>\n",
       "    </tr>\n",
       "    <tr>\n",
       "      <th>1</th>\n",
       "      <td>39026145</td>\n",
       "      <td>1 10:19:29</td>\n",
       "      <td>6011</td>\n",
       "      <td>7010</td>\n",
       "      <td>56147.89</td>\n",
       "      <td>NaN</td>\n",
       "    </tr>\n",
       "    <tr>\n",
       "      <th>2</th>\n",
       "      <td>39026145</td>\n",
       "      <td>1 10:20:56</td>\n",
       "      <td>4829</td>\n",
       "      <td>2330</td>\n",
       "      <td>-56147.89</td>\n",
       "      <td>NaN</td>\n",
       "    </tr>\n",
       "    <tr>\n",
       "      <th>3</th>\n",
       "      <td>39026145</td>\n",
       "      <td>1 10:39:54</td>\n",
       "      <td>5499</td>\n",
       "      <td>1010</td>\n",
       "      <td>-1392.47</td>\n",
       "      <td>NaN</td>\n",
       "    </tr>\n",
       "    <tr>\n",
       "      <th>4</th>\n",
       "      <td>39026145</td>\n",
       "      <td>2 15:33:42</td>\n",
       "      <td>5499</td>\n",
       "      <td>1010</td>\n",
       "      <td>-920.83</td>\n",
       "      <td>NaN</td>\n",
       "    </tr>\n",
       "  </tbody>\n",
       "</table>\n",
       "</div>"
      ],
      "text/plain": [
       "   customer_id tr_datetime  mcc_code  tr_type    amount term_id\n",
       "0     39026145  0 10:23:26      4814     1030  -2245.92     NaN\n",
       "1     39026145  1 10:19:29      6011     7010  56147.89     NaN\n",
       "2     39026145  1 10:20:56      4829     2330 -56147.89     NaN\n",
       "3     39026145  1 10:39:54      5499     1010  -1392.47     NaN\n",
       "4     39026145  2 15:33:42      5499     1010   -920.83     NaN"
      ]
     },
     "execution_count": 38,
     "metadata": {},
     "output_type": "execute_result"
    }
   ],
   "source": [
    "df = pd.read_csv('data/transactions.csv')\n",
    "df.head()"
   ]
  },
  {
   "cell_type": "code",
   "execution_count": 39,
   "metadata": {},
   "outputs": [
    {
     "data": {
      "text/plain": [
       "0    4814\n",
       "1    6011\n",
       "2    4829\n",
       "3    5499\n",
       "4    5499\n",
       "Name: mcc_code, dtype: int64"
      ]
     },
     "execution_count": 39,
     "metadata": {},
     "output_type": "execute_result"
    }
   ],
   "source": [
    "df['mcc_code'].head()"
   ]
  },
  {
   "cell_type": "code",
   "execution_count": 40,
   "metadata": {},
   "outputs": [
    {
     "data": {
      "text/html": [
       "<div>\n",
       "<style scoped>\n",
       "    .dataframe tbody tr th:only-of-type {\n",
       "        vertical-align: middle;\n",
       "    }\n",
       "\n",
       "    .dataframe tbody tr th {\n",
       "        vertical-align: top;\n",
       "    }\n",
       "\n",
       "    .dataframe thead th {\n",
       "        text-align: right;\n",
       "    }\n",
       "</style>\n",
       "<table border=\"1\" class=\"dataframe\">\n",
       "  <thead>\n",
       "    <tr style=\"text-align: right;\">\n",
       "      <th></th>\n",
       "      <th>_orig_mcc_code</th>\n",
       "      <th>mcc_code</th>\n",
       "    </tr>\n",
       "  </thead>\n",
       "  <tbody>\n",
       "    <tr>\n",
       "      <th>0</th>\n",
       "      <td>6011</td>\n",
       "      <td>2</td>\n",
       "    </tr>\n",
       "    <tr>\n",
       "      <th>1</th>\n",
       "      <td>6010</td>\n",
       "      <td>3</td>\n",
       "    </tr>\n",
       "    <tr>\n",
       "      <th>2</th>\n",
       "      <td>4814</td>\n",
       "      <td>4</td>\n",
       "    </tr>\n",
       "    <tr>\n",
       "      <th>3</th>\n",
       "      <td>5411</td>\n",
       "      <td>5</td>\n",
       "    </tr>\n",
       "    <tr>\n",
       "      <th>4</th>\n",
       "      <td>4829</td>\n",
       "      <td>6</td>\n",
       "    </tr>\n",
       "  </tbody>\n",
       "</table>\n",
       "</div>"
      ],
      "text/plain": [
       "   _orig_mcc_code  mcc_code\n",
       "0            6011         2\n",
       "1            6010         3\n",
       "2            4814         4\n",
       "3            5411         5\n",
       "4            4829         6"
      ]
     },
     "execution_count": 40,
     "metadata": {},
     "output_type": "execute_result"
    }
   ],
   "source": [
    "item_map = pd.read_csv('data/mcc_code_mapping.csv')\n",
    "item_map.head()"
   ]
  },
  {
   "cell_type": "code",
   "execution_count": 41,
   "metadata": {},
   "outputs": [],
   "source": [
    "df = df.rename(columns={'mcc_code': '_orig_mcc_code'})\n",
    "df['_orig_mcc_code'] = df['_orig_mcc_code'].fillna(\"#EMPTY\")"
   ]
  },
  {
   "cell_type": "code",
   "execution_count": 42,
   "metadata": {},
   "outputs": [
    {
     "data": {
      "text/html": [
       "<div>\n",
       "<style scoped>\n",
       "    .dataframe tbody tr th:only-of-type {\n",
       "        vertical-align: middle;\n",
       "    }\n",
       "\n",
       "    .dataframe tbody tr th {\n",
       "        vertical-align: top;\n",
       "    }\n",
       "\n",
       "    .dataframe thead th {\n",
       "        text-align: right;\n",
       "    }\n",
       "</style>\n",
       "<table border=\"1\" class=\"dataframe\">\n",
       "  <thead>\n",
       "    <tr style=\"text-align: right;\">\n",
       "      <th></th>\n",
       "      <th>customer_id</th>\n",
       "      <th>tr_datetime</th>\n",
       "      <th>_orig_mcc_code</th>\n",
       "      <th>tr_type</th>\n",
       "      <th>amount</th>\n",
       "      <th>term_id</th>\n",
       "      <th>mcc_code</th>\n",
       "    </tr>\n",
       "  </thead>\n",
       "  <tbody>\n",
       "    <tr>\n",
       "      <th>0</th>\n",
       "      <td>39026145</td>\n",
       "      <td>0 10:23:26</td>\n",
       "      <td>4814</td>\n",
       "      <td>1030</td>\n",
       "      <td>-2245.92</td>\n",
       "      <td>NaN</td>\n",
       "      <td>4</td>\n",
       "    </tr>\n",
       "    <tr>\n",
       "      <th>1</th>\n",
       "      <td>39026145</td>\n",
       "      <td>1 10:19:29</td>\n",
       "      <td>6011</td>\n",
       "      <td>7010</td>\n",
       "      <td>56147.89</td>\n",
       "      <td>NaN</td>\n",
       "      <td>2</td>\n",
       "    </tr>\n",
       "    <tr>\n",
       "      <th>2</th>\n",
       "      <td>39026145</td>\n",
       "      <td>1 10:20:56</td>\n",
       "      <td>4829</td>\n",
       "      <td>2330</td>\n",
       "      <td>-56147.89</td>\n",
       "      <td>NaN</td>\n",
       "      <td>6</td>\n",
       "    </tr>\n",
       "    <tr>\n",
       "      <th>3</th>\n",
       "      <td>39026145</td>\n",
       "      <td>1 10:39:54</td>\n",
       "      <td>5499</td>\n",
       "      <td>1010</td>\n",
       "      <td>-1392.47</td>\n",
       "      <td>NaN</td>\n",
       "      <td>7</td>\n",
       "    </tr>\n",
       "    <tr>\n",
       "      <th>4</th>\n",
       "      <td>39026145</td>\n",
       "      <td>2 15:33:42</td>\n",
       "      <td>5499</td>\n",
       "      <td>1010</td>\n",
       "      <td>-920.83</td>\n",
       "      <td>NaN</td>\n",
       "      <td>7</td>\n",
       "    </tr>\n",
       "  </tbody>\n",
       "</table>\n",
       "</div>"
      ],
      "text/plain": [
       "   customer_id tr_datetime  _orig_mcc_code  tr_type    amount term_id  \\\n",
       "0     39026145  0 10:23:26            4814     1030  -2245.92     NaN   \n",
       "1     39026145  1 10:19:29            6011     7010  56147.89     NaN   \n",
       "2     39026145  1 10:20:56            4829     2330 -56147.89     NaN   \n",
       "3     39026145  1 10:39:54            5499     1010  -1392.47     NaN   \n",
       "4     39026145  2 15:33:42            5499     1010   -920.83     NaN   \n",
       "\n",
       "   mcc_code  \n",
       "0         4  \n",
       "1         2  \n",
       "2         6  \n",
       "3         7  \n",
       "4         7  "
      ]
     },
     "execution_count": 42,
     "metadata": {},
     "output_type": "execute_result"
    }
   ],
   "source": [
    "df = df.merge(item_map, on='_orig_mcc_code', how='left')\n",
    "df.head()"
   ]
  },
  {
   "cell_type": "code",
   "execution_count": 43,
   "metadata": {},
   "outputs": [
    {
     "data": {
      "text/html": [
       "<div>\n",
       "<style scoped>\n",
       "    .dataframe tbody tr th:only-of-type {\n",
       "        vertical-align: middle;\n",
       "    }\n",
       "\n",
       "    .dataframe tbody tr th {\n",
       "        vertical-align: top;\n",
       "    }\n",
       "\n",
       "    .dataframe thead th {\n",
       "        text-align: right;\n",
       "    }\n",
       "</style>\n",
       "<table border=\"1\" class=\"dataframe\">\n",
       "  <thead>\n",
       "    <tr style=\"text-align: right;\">\n",
       "      <th></th>\n",
       "      <th>customer_id</th>\n",
       "      <th>tr_datetime</th>\n",
       "      <th>tr_type</th>\n",
       "      <th>amount</th>\n",
       "      <th>term_id</th>\n",
       "      <th>mcc_code</th>\n",
       "    </tr>\n",
       "  </thead>\n",
       "  <tbody>\n",
       "    <tr>\n",
       "      <th>0</th>\n",
       "      <td>39026145</td>\n",
       "      <td>0 10:23:26</td>\n",
       "      <td>1030</td>\n",
       "      <td>-2245.92</td>\n",
       "      <td>NaN</td>\n",
       "      <td>4</td>\n",
       "    </tr>\n",
       "    <tr>\n",
       "      <th>1</th>\n",
       "      <td>39026145</td>\n",
       "      <td>1 10:19:29</td>\n",
       "      <td>7010</td>\n",
       "      <td>56147.89</td>\n",
       "      <td>NaN</td>\n",
       "      <td>2</td>\n",
       "    </tr>\n",
       "    <tr>\n",
       "      <th>2</th>\n",
       "      <td>39026145</td>\n",
       "      <td>1 10:20:56</td>\n",
       "      <td>2330</td>\n",
       "      <td>-56147.89</td>\n",
       "      <td>NaN</td>\n",
       "      <td>6</td>\n",
       "    </tr>\n",
       "    <tr>\n",
       "      <th>3</th>\n",
       "      <td>39026145</td>\n",
       "      <td>1 10:39:54</td>\n",
       "      <td>1010</td>\n",
       "      <td>-1392.47</td>\n",
       "      <td>NaN</td>\n",
       "      <td>7</td>\n",
       "    </tr>\n",
       "    <tr>\n",
       "      <th>4</th>\n",
       "      <td>39026145</td>\n",
       "      <td>2 15:33:42</td>\n",
       "      <td>1010</td>\n",
       "      <td>-920.83</td>\n",
       "      <td>NaN</td>\n",
       "      <td>7</td>\n",
       "    </tr>\n",
       "  </tbody>\n",
       "</table>\n",
       "</div>"
      ],
      "text/plain": [
       "   customer_id tr_datetime  tr_type    amount term_id  mcc_code\n",
       "0     39026145  0 10:23:26     1030  -2245.92     NaN         4\n",
       "1     39026145  1 10:19:29     7010  56147.89     NaN         2\n",
       "2     39026145  1 10:20:56     2330 -56147.89     NaN         6\n",
       "3     39026145  1 10:39:54     1010  -1392.47     NaN         7\n",
       "4     39026145  2 15:33:42     1010   -920.83     NaN         7"
      ]
     },
     "execution_count": 43,
     "metadata": {},
     "output_type": "execute_result"
    }
   ],
   "source": [
    "df = df.drop(columns = ['_orig_mcc_code'])\n",
    "df.head()"
   ]
  },
  {
   "cell_type": "code",
   "execution_count": null,
   "metadata": {},
   "outputs": [],
   "source": []
  },
  {
   "cell_type": "code",
   "execution_count": null,
   "metadata": {},
   "outputs": [],
   "source": []
  },
  {
   "cell_type": "code",
   "execution_count": null,
   "metadata": {},
   "outputs": [],
   "source": []
  }
 ],
 "metadata": {
  "kernelspec": {
   "display_name": "Python 3",
   "language": "python",
   "name": "python3"
  },
  "language_info": {
   "codemirror_mode": {
    "name": "ipython",
    "version": 3
   },
   "file_extension": ".py",
   "mimetype": "text/x-python",
   "name": "python",
   "nbconvert_exporter": "python",
   "pygments_lexer": "ipython3",
   "version": "3.10.0"
  }
 },
 "nbformat": 4,
 "nbformat_minor": 2
}
