{
 "cells": [
  {
   "cell_type": "code",
   "execution_count": 2,
   "metadata": {},
   "outputs": [],
   "source": [
    "import torch\n",
    "import torch.nn as nn\n",
    "\n",
    "class TwoPartEmbeddings(nn.Module):\n",
    "    def __init__(self, n_users, n_items, embedding_dim):\n",
    "        super().__init__()\n",
    "        \n",
    "        total_nodes = n_users + n_items\n",
    "        self.node_feats = nn.Embedding(total_nodes, embedding_dim)\n",
    "        \n",
    "        # Create views for client_feats and item_feats from node_feats\n",
    "        self.client_feats = nn.Embedding.from_pretrained(self.node_feats.weight[:n_users], freeze=False)\n",
    "        self.item_feats = nn.Embedding.from_pretrained(self.node_feats.weight[n_users:], freeze=False)\n",
    "\n",
    "    def forward(self, node_ids):\n",
    "        return self.node_feats(node_ids)"
   ]
  },
  {
   "cell_type": "code",
   "execution_count": 3,
   "metadata": {},
   "outputs": [],
   "source": [
    "# class TwoPartEmbeddingsv2(nn.Module):\n",
    "#     def __init__(self, n_users, n_items, embedding_dim):\n",
    "#         super().__init__()\n",
    "\n",
    "#         self.client_feats = nn.Embedding(n_users, embedding_dim)\n",
    "#         self.item_feats = nn.Embedding(n_items, embedding_dim)\n",
    "        \n",
    "#         user_feats_weight = self.client_feats.weight.data\n",
    "#         item_feats_weight = self.item_feats.weight.data\n",
    "#         # Concatenate the embedding matrices\n",
    "#         self.node_feats = torch.cat([user_feats_weight, item_feats_weight])\n",
    "\n",
    "#     def forward(self, node_ids):\n",
    "#         return self.node_feats[node_ids]"
   ]
  },
  {
   "cell_type": "code",
   "execution_count": 4,
   "metadata": {},
   "outputs": [],
   "source": [
    "class TwoPartEmbeddingsv3(nn.Module):\n",
    "    def __init__(self, n_users, n_items, embedding_dim):\n",
    "        super().__init__()\n",
    "\n",
    "        self.client_feats = nn.Embedding(n_users, embedding_dim)\n",
    "        self.item_feats = nn.Embedding(n_items, embedding_dim)\n",
    "        \n",
    "        user_feats_weight = self.client_feats.weight\n",
    "        item_feats_weight = self.item_feats.weight\n",
    "        # Concatenate the embedding matrices\n",
    "        self.node_feats = torch.cat([user_feats_weight, item_feats_weight])\n",
    "\n",
    "    def forward(self, node_ids):\n",
    "        return self.node_feats[node_ids]"
   ]
  },
  {
   "cell_type": "code",
   "execution_count": 5,
   "metadata": {},
   "outputs": [],
   "source": [
    "def tests_two_part_embeddings(embs_ctor):\n",
    "    # Setup\n",
    "    n_users = 10\n",
    "    n_items = 10\n",
    "    embedding_dim = 64\n",
    "    model = embs_ctor(n_users, n_items, embedding_dim)\n",
    "    optimizer = torch.optim.SGD(model.parameters(), lr=0.01)\n",
    "    criterion = nn.MSELoss()\n",
    "\n",
    "    # Create dummy input and target\n",
    "    node_ids = torch.LongTensor([0, 1, 2, n_users, n_users + 1, n_users + 2])  # Mix of user and item IDs\n",
    "    dummy_target = torch.randn(len(node_ids), embedding_dim)\n",
    "\n",
    "\n",
    "    # Initial weights\n",
    "    if type(model.client_feats) != nn.Embedding:\n",
    "        initial_client_weights = model.client_feats.clone().detach()\n",
    "    else:\n",
    "        initial_client_weights = model.client_feats.weight.clone().detach()\n",
    "    if type(model.item_feats) != nn.Embedding:\n",
    "        initial_item_weights = model.item_feats.clone().detach()\n",
    "    else:\n",
    "        initial_item_weights = model.item_feats.weight.clone().detach()\n",
    "    if type(model.node_feats) != nn.Embedding:\n",
    "        initial_node_weights = model.node_feats.clone().detach()\n",
    "    else:\n",
    "        initial_node_weights = model.node_feats.weight.clone().detach()\n",
    "\n",
    "    # Forward pass\n",
    "    output = model(node_ids)\n",
    "    # print(\"Initial output:\", output)\n",
    "\n",
    "    # Compute dummy loss\n",
    "    loss = criterion(output, dummy_target)\n",
    "\n",
    "    # Backward pass\n",
    "    loss.backward()\n",
    "\n",
    "    # Optimization step\n",
    "    optimizer.step()\n",
    "\n",
    "    # updated weights\n",
    "    if type(model.client_feats) != nn.Embedding:\n",
    "        updated_client_weights = model.client_feats.clone().detach()\n",
    "    else:\n",
    "        updated_client_weights = model.client_feats.weight.clone().detach()\n",
    "    if type(model.item_feats) != nn.Embedding:\n",
    "        updated_item_weights = model.item_feats.clone().detach()\n",
    "    else:\n",
    "        updated_item_weights = model.item_feats.weight.clone().detach()\n",
    "    if type(model.node_feats) != nn.Embedding:\n",
    "        updated_node_weights = model.node_feats.clone().detach()\n",
    "    else:\n",
    "        updated_node_weights = model.node_feats.weight.clone().detach()\n",
    "\n",
    "    # Check that weights have been updated\n",
    "    assert not torch.equal(initial_client_weights, updated_client_weights), \"Client weights did not update\"\n",
    "    assert not torch.equal(initial_item_weights, updated_item_weights), \"Item weights did not update\"\n",
    "    assert not torch.equal(initial_node_weights, updated_node_weights), \"Node weights did not update\"\n",
    "\n",
    "    # Check that the client and item weights are still parts of the node weights\n",
    "    assert torch.equal(model.client_feats.weight, updated_node_weights[:n_users]), \"Client weights are not a slice of node weights\"\n",
    "    assert torch.equal(model.item_feats.weight, updated_node_weights[n_users:]), \"Item weights are not a slice of node weights\"\n",
    "\n",
    "    # print(\"Updated client weights:\", updated_client_weights)\n",
    "    # print(\"Updated item weights:\", updated_item_weights)\n",
    "    # print(\"Updated node weights:\", updated_node_weights)\n",
    "\n",
    "    print(\"Passed\")"
   ]
  },
  {
   "cell_type": "code",
   "execution_count": 6,
   "metadata": {},
   "outputs": [
    {
     "name": "stdout",
     "output_type": "stream",
     "text": [
      "Passed\n"
     ]
    }
   ],
   "source": [
    "tests_two_part_embeddings(TwoPartEmbeddings)"
   ]
  },
  {
   "cell_type": "code",
   "execution_count": 8,
   "metadata": {},
   "outputs": [
    {
     "ename": "AssertionError",
     "evalue": "Node weights did not update",
     "output_type": "error",
     "traceback": [
      "\u001b[1;31m---------------------------------------------------------------------------\u001b[0m",
      "\u001b[1;31mAssertionError\u001b[0m                            Traceback (most recent call last)",
      "Cell \u001b[1;32mIn[8], line 1\u001b[0m\n\u001b[1;32m----> 1\u001b[0m \u001b[43mtests_two_part_embeddings\u001b[49m\u001b[43m(\u001b[49m\u001b[43mTwoPartEmbeddingsv3\u001b[49m\u001b[43m)\u001b[49m\n",
      "Cell \u001b[1;32mIn[5], line 59\u001b[0m, in \u001b[0;36mtests_two_part_embeddings\u001b[1;34m(embs_ctor)\u001b[0m\n\u001b[0;32m     57\u001b[0m \u001b[38;5;28;01massert\u001b[39;00m \u001b[38;5;129;01mnot\u001b[39;00m torch\u001b[38;5;241m.\u001b[39mequal(initial_client_weights, updated_client_weights), \u001b[38;5;124m\"\u001b[39m\u001b[38;5;124mClient weights did not update\u001b[39m\u001b[38;5;124m\"\u001b[39m\n\u001b[0;32m     58\u001b[0m \u001b[38;5;28;01massert\u001b[39;00m \u001b[38;5;129;01mnot\u001b[39;00m torch\u001b[38;5;241m.\u001b[39mequal(initial_item_weights, updated_item_weights), \u001b[38;5;124m\"\u001b[39m\u001b[38;5;124mItem weights did not update\u001b[39m\u001b[38;5;124m\"\u001b[39m\n\u001b[1;32m---> 59\u001b[0m \u001b[38;5;28;01massert\u001b[39;00m \u001b[38;5;129;01mnot\u001b[39;00m torch\u001b[38;5;241m.\u001b[39mequal(initial_node_weights, updated_node_weights), \u001b[38;5;124m\"\u001b[39m\u001b[38;5;124mNode weights did not update\u001b[39m\u001b[38;5;124m\"\u001b[39m\n\u001b[0;32m     61\u001b[0m \u001b[38;5;66;03m# Check that the client and item weights are still parts of the node weights\u001b[39;00m\n\u001b[0;32m     62\u001b[0m \u001b[38;5;28;01massert\u001b[39;00m torch\u001b[38;5;241m.\u001b[39mequal(model\u001b[38;5;241m.\u001b[39mclient_feats\u001b[38;5;241m.\u001b[39mweight, updated_node_weights[:n_users]), \u001b[38;5;124m\"\u001b[39m\u001b[38;5;124mClient weights are not a slice of node weights\u001b[39m\u001b[38;5;124m\"\u001b[39m\n",
      "\u001b[1;31mAssertionError\u001b[0m: Node weights did not update"
     ]
    }
   ],
   "source": [
    "tests_two_part_embeddings(TwoPartEmbeddingsv3)"
   ]
  },
  {
   "cell_type": "code",
   "execution_count": null,
   "metadata": {},
   "outputs": [],
   "source": []
  },
  {
   "cell_type": "code",
   "execution_count": null,
   "metadata": {},
   "outputs": [],
   "source": []
  }
 ],
 "metadata": {
  "kernelspec": {
   "display_name": "Python 3",
   "language": "python",
   "name": "python3"
  },
  "language_info": {
   "codemirror_mode": {
    "name": "ipython",
    "version": 3
   },
   "file_extension": ".py",
   "mimetype": "text/x-python",
   "name": "python",
   "nbconvert_exporter": "python",
   "pygments_lexer": "ipython3",
   "version": "3.10.10"
  }
 },
 "nbformat": 4,
 "nbformat_minor": 2
}
