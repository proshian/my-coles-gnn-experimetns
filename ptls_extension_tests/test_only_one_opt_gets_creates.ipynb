{
 "cells": [
  {
   "cell_type": "code",
   "execution_count": 10,
   "metadata": {},
   "outputs": [
    {
     "name": "stderr",
     "output_type": "stream",
     "text": [
      "GPU available: False, used: False\n",
      "TPU available: False, using: 0 TPU cores\n",
      "IPU available: False, using: 0 IPUs\n",
      "HPU available: False, using: 0 HPUs\n"
     ]
    },
    {
     "name": "stderr",
     "output_type": "stream",
     "text": [
      "\n",
      "  | Name   | Type         | Params\n",
      "----------------------------------------\n",
      "0 | child1 | ChildModule1 | 2     \n",
      "1 | child2 | ChildModule2 | 2     \n",
      "----------------------------------------\n",
      "4         Trainable params\n",
      "0         Non-trainable params\n",
      "4         Total params\n",
      "0.000     Total estimated model params size (MB)\n"
     ]
    },
    {
     "name": "stdout",
     "output_type": "stream",
     "text": [
      "parent's\n"
     ]
    },
    {
     "name": "stderr",
     "output_type": "stream",
     "text": [
      "c:\\Users\\proshian\\AppData\\Local\\Programs\\Python\\Python311\\Lib\\site-packages\\lightning\\pytorch\\trainer\\connectors\\data_connector.py:441: The 'train_dataloader' does not have many workers which may be a bottleneck. Consider increasing the value of the `num_workers` argument` to `num_workers=3` in the `DataLoader` to improve performance.\n",
      "c:\\Users\\proshian\\AppData\\Local\\Programs\\Python\\Python311\\Lib\\site-packages\\lightning\\pytorch\\loops\\fit_loop.py:298: The number of training batches (4) is smaller than the logging interval Trainer(log_every_n_steps=50). Set a lower value for log_every_n_steps if you want to see logs for the training epoch.\n"
     ]
    },
    {
     "data": {
      "application/vnd.jupyter.widget-view+json": {
       "model_id": "ac7dccdc2fc3453ea90d54b8f0449874",
       "version_major": 2,
       "version_minor": 0
      },
      "text/plain": [
       "Training: |          | 0/? [00:00<?, ?it/s]"
      ]
     },
     "metadata": {},
     "output_type": "display_data"
    },
    {
     "name": "stderr",
     "output_type": "stream",
     "text": [
      "`Trainer.fit` stopped: `max_epochs=1` reached.\n"
     ]
    }
   ],
   "source": [
    "import lightning as pl\n",
    "import torch\n",
    "from torch.utils.data import DataLoader, Dataset\n",
    "\n",
    "# Define a simple dataset for demonstration purposes\n",
    "class DummyDataset(Dataset):\n",
    "    def __len__(self):\n",
    "        return 100\n",
    "\n",
    "    def __getitem__(self, idx):\n",
    "        return torch.tensor([idx], dtype=torch.float), torch.tensor([idx], dtype=torch.float)\n",
    "\n",
    "# Define the first child module\n",
    "class ChildModule1(pl.LightningModule):\n",
    "    def __init__(self):\n",
    "        super().__init__()\n",
    "        self.dummy_layer = torch.nn.Linear(1, 1)\n",
    "\n",
    "    def configure_optimizers(self):\n",
    "        print(\"Configuring optimizer for ChildModule1\")\n",
    "        optimizer = torch.optim.Adam(self.parameters(), lr=1e-3)\n",
    "        scheduler = torch.optim.lr_scheduler.StepLR(optimizer, step_size=1)\n",
    "        return optimizer, scheduler\n",
    "\n",
    "    def forward(self, x):\n",
    "        return self.dummy_layer(x)\n",
    "\n",
    "    def training_step(self, batch, batch_idx):\n",
    "        x, y = batch\n",
    "        loss = torch.nn.functional.mse_loss(self(x), y)\n",
    "        return loss\n",
    "\n",
    "# Define the second child module\n",
    "class ChildModule2(pl.LightningModule):\n",
    "    def __init__(self):\n",
    "        super().__init__()\n",
    "        self.dummy_layer = torch.nn.Linear(1, 1)\n",
    "        \n",
    "    \n",
    "    def configure_optimizers(self):\n",
    "        print(\"Configuring optimizer for ChildModule2\")\n",
    "        optimizer = torch.optim.SGD(self.parameters(), lr=1e-2)\n",
    "        scheduler = torch.optim.lr_scheduler.StepLR(optimizer, step_size=2)\n",
    "        return optimizer, scheduler\n",
    "\n",
    "    def forward(self, x):\n",
    "        return self.dummy_layer(x)\n",
    "\n",
    "    def training_step(self, batch, batch_idx):\n",
    "        x, y = batch\n",
    "        loss = torch.nn.functional.mse_loss(self(x), y)\n",
    "        return loss\n",
    "\n",
    "# Define the parent module that contains the child modules\n",
    "class ParentModule(pl.LightningModule):\n",
    "    def __init__(self):\n",
    "        super().__init__()\n",
    "        self.child1 = ChildModule1()\n",
    "        self.child2 = ChildModule2()\n",
    "\n",
    "    def configure_optimizers(self):\n",
    "        print(\"parent's\")\n",
    "        optimizer = torch.optim.Adam(self.parameters(), lr=1e-3)\n",
    "        scheduler = torch.optim.lr_scheduler.StepLR(optimizer, step_size=1)\n",
    "        return [optimizer], [scheduler]\n",
    "\n",
    "    def forward(self, x):\n",
    "        x = self.child1(x)\n",
    "        x = self.child2(x)\n",
    "        return x\n",
    "\n",
    "    def training_step(self, batch, batch_idx):\n",
    "        x, y = batch\n",
    "        x = self.forward(x)\n",
    "        loss = torch.nn.functional.mse_loss(x, y)\n",
    "        return loss\n",
    "\n",
    "# Create the dataset and dataloader\n",
    "dataset = DummyDataset()\n",
    "dataloader = DataLoader(dataset, batch_size=32)\n",
    "\n",
    "# Initialize the parent module\n",
    "parent_module = ParentModule()\n",
    "\n",
    "# Initialize the trainer\n",
    "trainer = pl.Trainer(max_epochs=1)\n",
    "\n",
    "# Train the model\n",
    "trainer.fit(parent_module, dataloader)\n"
   ]
  },
  {
   "cell_type": "code",
   "execution_count": null,
   "metadata": {},
   "outputs": [],
   "source": []
  },
  {
   "cell_type": "markdown",
   "metadata": {},
   "source": [
    "# Так как собщений \"Configuring optimizer for ChildModule1\" и \"Configuring optimizer for ChildModule2\" не было, их оптимизаторы не создаются"
   ]
  },
  {
   "cell_type": "markdown",
   "metadata": {},
   "source": []
  }
 ],
 "metadata": {
  "kernelspec": {
   "display_name": "Python 3",
   "language": "python",
   "name": "python3"
  },
  "language_info": {
   "codemirror_mode": {
    "name": "ipython",
    "version": 3
   },
   "file_extension": ".py",
   "mimetype": "text/x-python",
   "name": "python",
   "nbconvert_exporter": "python",
   "pygments_lexer": "ipython3",
   "version": "3.11.5"
  }
 },
 "nbformat": 4,
 "nbformat_minor": 2
}
