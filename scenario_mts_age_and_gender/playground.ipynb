{
 "cells": [
  {
   "cell_type": "code",
   "execution_count": 1,
   "metadata": {},
   "outputs": [],
   "source": [
    "def convert_punycode(puny_domen: str) -> str:\n",
    "    \"\"\"\n",
    "    Converts punycode to unicode\n",
    "\n",
    "    Example:\n",
    "    >>> convert_punycode('xn--22-glcqfm3bya1b.xn--p1ai')\n",
    "    <<< 'грузчик22.рф'\n",
    "    \"\"\"\n",
    "    return puny_domen.encode().decode('idna')"
   ]
  },
  {
   "cell_type": "code",
   "execution_count": 2,
   "metadata": {},
   "outputs": [],
   "source": [
    "def is_punycode(s: str) -> bool:\n",
    "    return s.startswith('xn--')"
   ]
  },
  {
   "cell_type": "code",
   "execution_count": 3,
   "metadata": {},
   "outputs": [
    {
     "data": {
      "text/plain": [
       "'грузчик22.рф'"
      ]
     },
     "execution_count": 3,
     "metadata": {},
     "output_type": "execute_result"
    }
   ],
   "source": [
    "s = 'xn--22-glcqfm3bya1b.xn--p1ai'\n",
    "if is_punycode(s):\n",
    "    s = convert_punycode(s)\n",
    "s"
   ]
  },
  {
   "cell_type": "code",
   "execution_count": null,
   "metadata": {},
   "outputs": [],
   "source": []
  }
 ],
 "metadata": {
  "kernelspec": {
   "display_name": "my-coles-gnn-experimetns-uXYjAWap",
   "language": "python",
   "name": "python3"
  },
  "language_info": {
   "codemirror_mode": {
    "name": "ipython",
    "version": 3
   },
   "file_extension": ".py",
   "mimetype": "text/x-python",
   "name": "python",
   "nbconvert_exporter": "python",
   "pygments_lexer": "ipython3",
   "version": "3.8.0"
  }
 },
 "nbformat": 4,
 "nbformat_minor": 2
}
